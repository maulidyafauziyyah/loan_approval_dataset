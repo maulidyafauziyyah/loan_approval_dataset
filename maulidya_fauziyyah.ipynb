{
 "cells": [
  {
   "cell_type": "markdown",
   "metadata": {},
   "source": [
    "## <b> Latar Belakang </b>\n",
    "\n",
    "Prediksi Persetujuan Pinjaman dibuat untuk membantu bank menyelesaikan masalah dalam menilai apakah pemohon pinjaman layak mendapatkan pinjaman atau tidak. Bank biasanya mengevaluasi banyak hal seperti riwayat kredit, pendapatan, dan tanggungan, secara manual. Dengan menggunakan model ini, kita dapat memprediksi persetujuan pinjaman dengan lebih objektif untuk mengurangi risiko kecenderungan yang dapat mempengaruhi keputusan dan memastikan setiap pemohon pinjaman diperlakukan secara adil. Selain itu, aplikasi ini membantu bank memberikan keputusan lebih cepat, sesuai dengan harapan pemohon pinjaman yang ingin proses yang mudah dan cepat. Tujuannya adalah membuat proses persetujuan pinjaman lebih efisien, akurat, adil, dan ramah pengguna."
   ]
  },
  {
   "cell_type": "markdown",
   "metadata": {},
   "source": [
    "# 1. Import Libraries"
   ]
  },
  {
   "cell_type": "code",
   "execution_count": 1,
   "metadata": {},
   "outputs": [],
   "source": [
    "# Import libraries yang dibutuhkan\n",
    "import pandas as pd\n",
    "import numpy as np\n",
    "from scipy import stats\n",
    "\n",
    "# Libraries yang digunakan untuk visualisasi data\n",
    "import matplotlib.pyplot as plt\n",
    "import seaborn as sns\n",
    "\n",
    "# Library yang digunakan untuk menghitung koefisien korelasi Kendall Tau\n",
    "from scipy.stats import kendalltau\n",
    "from scipy.stats import skew\n",
    "\n",
    "# Library untuk balancing data\n",
    "from sklearn.model_selection import train_test_split\n",
    "from collections import Counter\n",
    "from imblearn.over_sampling import SMOTE\n",
    "\n",
    "# Library yang digunakan untuk membuat Pipeline\n",
    "from sklearn.pipeline import Pipeline, make_pipeline\n",
    "from sklearn.compose import ColumnTransformer\n",
    "\n",
    "# Library yang digunakan untuk modeling \n",
    "from sklearn.neighbors import KNeighborsClassifier\n",
    "from sklearn.svm import SVC\n",
    "from sklearn.tree import DecisionTreeClassifier\n",
    "from sklearn.ensemble import RandomForestClassifier, GradientBoostingClassifier\n",
    "from sklearn.model_selection import GridSearchCV\n",
    "\n",
    "\n",
    "# Library yang digunakan untuk pra-pemrosesan data\n",
    "from sklearn import preprocessing\n",
    "from sklearn.preprocessing import LabelEncoder\n",
    "\n",
    "# Library yang digunakan untuk model evaluasi\n",
    "from sklearn.model_selection import StratifiedKFold\n",
    "from sklearn.model_selection import cross_val_score\n",
    "from sklearn.metrics import confusion_matrix, ConfusionMatrixDisplay, classification_report, f1_score, recall_score, precision_score\n",
    "\n",
    "# Library yang digunakan untuk split data\n",
    "from sklearn.model_selection import train_test_split\n",
    "\n",
    "# Library yang digunakan untuk pengecekan VIF\n",
    "from statsmodels.stats.outliers_influence import variance_inflation_factor\n",
    "\n",
    "# Library yang digunakan untuk scalling dan encoding\n",
    "from sklearn.preprocessing import StandardScaler\n",
    "\n",
    "# Library yang digunakan untuk handling outlier\n",
    "from feature_engine.outliers import Winsorizer\n",
    "\n",
    "# Library yang digunakan untuk menyimpan model\n",
    "import pickle\n",
    "import joblib\n",
    "\n",
    "from warnings import filterwarnings\n",
    "filterwarnings('ignore')"
   ]
  },
  {
   "cell_type": "markdown",
   "metadata": {},
   "source": [
    "# 2. Data Loading"
   ]
  },
  {
   "cell_type": "markdown",
   "metadata": {},
   "source": [
    "Data loading berisi proses penyiapan data sebelum dilakukan eksplorasi data lebih lanjut. Proses Data Loading dapat berupa memberi nama untuk dataset yang digunakan, mengecek ukuran dataset, dan lain-lain."
   ]
  },
  {
   "cell_type": "code",
   "execution_count": 2,
   "metadata": {},
   "outputs": [],
   "source": [
    "loan = pd.read_csv('loan_approval_dataset.csv')"
   ]
  },
  {
   "cell_type": "markdown",
   "metadata": {},
   "source": [
    "## Menampilkan 10 Data Teratas dan 10 Data Terbawah"
   ]
  },
  {
   "cell_type": "code",
   "execution_count": 3,
   "metadata": {},
   "outputs": [
    {
     "name": "stdout",
     "output_type": "stream",
     "text": [
      "10 Data Teratas: \n"
     ]
    },
    {
     "data": {
      "text/html": [
       "<div>\n",
       "<style scoped>\n",
       "    .dataframe tbody tr th:only-of-type {\n",
       "        vertical-align: middle;\n",
       "    }\n",
       "\n",
       "    .dataframe tbody tr th {\n",
       "        vertical-align: top;\n",
       "    }\n",
       "\n",
       "    .dataframe thead th {\n",
       "        text-align: right;\n",
       "    }\n",
       "</style>\n",
       "<table border=\"1\" class=\"dataframe\">\n",
       "  <thead>\n",
       "    <tr style=\"text-align: right;\">\n",
       "      <th></th>\n",
       "      <th>loan_id</th>\n",
       "      <th>no_of_dependents</th>\n",
       "      <th>education</th>\n",
       "      <th>self_employed</th>\n",
       "      <th>income_annum</th>\n",
       "      <th>loan_amount</th>\n",
       "      <th>loan_term</th>\n",
       "      <th>cibil_score</th>\n",
       "      <th>residential_assets_value</th>\n",
       "      <th>commercial_assets_value</th>\n",
       "      <th>luxury_assets_value</th>\n",
       "      <th>bank_asset_value</th>\n",
       "      <th>loan_status</th>\n",
       "    </tr>\n",
       "  </thead>\n",
       "  <tbody>\n",
       "    <tr>\n",
       "      <th>0</th>\n",
       "      <td>1</td>\n",
       "      <td>2</td>\n",
       "      <td>Graduate</td>\n",
       "      <td>No</td>\n",
       "      <td>9600000</td>\n",
       "      <td>29900000</td>\n",
       "      <td>12</td>\n",
       "      <td>778</td>\n",
       "      <td>2400000</td>\n",
       "      <td>17600000</td>\n",
       "      <td>22700000</td>\n",
       "      <td>8000000</td>\n",
       "      <td>Approved</td>\n",
       "    </tr>\n",
       "    <tr>\n",
       "      <th>1</th>\n",
       "      <td>2</td>\n",
       "      <td>0</td>\n",
       "      <td>Not Graduate</td>\n",
       "      <td>Yes</td>\n",
       "      <td>4100000</td>\n",
       "      <td>12200000</td>\n",
       "      <td>8</td>\n",
       "      <td>417</td>\n",
       "      <td>2700000</td>\n",
       "      <td>2200000</td>\n",
       "      <td>8800000</td>\n",
       "      <td>3300000</td>\n",
       "      <td>Rejected</td>\n",
       "    </tr>\n",
       "    <tr>\n",
       "      <th>2</th>\n",
       "      <td>3</td>\n",
       "      <td>3</td>\n",
       "      <td>Graduate</td>\n",
       "      <td>No</td>\n",
       "      <td>9100000</td>\n",
       "      <td>29700000</td>\n",
       "      <td>20</td>\n",
       "      <td>506</td>\n",
       "      <td>7100000</td>\n",
       "      <td>4500000</td>\n",
       "      <td>33300000</td>\n",
       "      <td>12800000</td>\n",
       "      <td>Rejected</td>\n",
       "    </tr>\n",
       "    <tr>\n",
       "      <th>3</th>\n",
       "      <td>4</td>\n",
       "      <td>3</td>\n",
       "      <td>Graduate</td>\n",
       "      <td>No</td>\n",
       "      <td>8200000</td>\n",
       "      <td>30700000</td>\n",
       "      <td>8</td>\n",
       "      <td>467</td>\n",
       "      <td>18200000</td>\n",
       "      <td>3300000</td>\n",
       "      <td>23300000</td>\n",
       "      <td>7900000</td>\n",
       "      <td>Rejected</td>\n",
       "    </tr>\n",
       "    <tr>\n",
       "      <th>4</th>\n",
       "      <td>5</td>\n",
       "      <td>5</td>\n",
       "      <td>Not Graduate</td>\n",
       "      <td>Yes</td>\n",
       "      <td>9800000</td>\n",
       "      <td>24200000</td>\n",
       "      <td>20</td>\n",
       "      <td>382</td>\n",
       "      <td>12400000</td>\n",
       "      <td>8200000</td>\n",
       "      <td>29400000</td>\n",
       "      <td>5000000</td>\n",
       "      <td>Rejected</td>\n",
       "    </tr>\n",
       "    <tr>\n",
       "      <th>5</th>\n",
       "      <td>6</td>\n",
       "      <td>0</td>\n",
       "      <td>Graduate</td>\n",
       "      <td>Yes</td>\n",
       "      <td>4800000</td>\n",
       "      <td>13500000</td>\n",
       "      <td>10</td>\n",
       "      <td>319</td>\n",
       "      <td>6800000</td>\n",
       "      <td>8300000</td>\n",
       "      <td>13700000</td>\n",
       "      <td>5100000</td>\n",
       "      <td>Rejected</td>\n",
       "    </tr>\n",
       "    <tr>\n",
       "      <th>6</th>\n",
       "      <td>7</td>\n",
       "      <td>5</td>\n",
       "      <td>Graduate</td>\n",
       "      <td>No</td>\n",
       "      <td>8700000</td>\n",
       "      <td>33000000</td>\n",
       "      <td>4</td>\n",
       "      <td>678</td>\n",
       "      <td>22500000</td>\n",
       "      <td>14800000</td>\n",
       "      <td>29200000</td>\n",
       "      <td>4300000</td>\n",
       "      <td>Approved</td>\n",
       "    </tr>\n",
       "    <tr>\n",
       "      <th>7</th>\n",
       "      <td>8</td>\n",
       "      <td>2</td>\n",
       "      <td>Graduate</td>\n",
       "      <td>Yes</td>\n",
       "      <td>5700000</td>\n",
       "      <td>15000000</td>\n",
       "      <td>20</td>\n",
       "      <td>382</td>\n",
       "      <td>13200000</td>\n",
       "      <td>5700000</td>\n",
       "      <td>11800000</td>\n",
       "      <td>6000000</td>\n",
       "      <td>Rejected</td>\n",
       "    </tr>\n",
       "    <tr>\n",
       "      <th>8</th>\n",
       "      <td>9</td>\n",
       "      <td>0</td>\n",
       "      <td>Graduate</td>\n",
       "      <td>Yes</td>\n",
       "      <td>800000</td>\n",
       "      <td>2200000</td>\n",
       "      <td>20</td>\n",
       "      <td>782</td>\n",
       "      <td>1300000</td>\n",
       "      <td>800000</td>\n",
       "      <td>2800000</td>\n",
       "      <td>600000</td>\n",
       "      <td>Approved</td>\n",
       "    </tr>\n",
       "    <tr>\n",
       "      <th>9</th>\n",
       "      <td>10</td>\n",
       "      <td>5</td>\n",
       "      <td>Not Graduate</td>\n",
       "      <td>No</td>\n",
       "      <td>1100000</td>\n",
       "      <td>4300000</td>\n",
       "      <td>10</td>\n",
       "      <td>388</td>\n",
       "      <td>3200000</td>\n",
       "      <td>1400000</td>\n",
       "      <td>3300000</td>\n",
       "      <td>1600000</td>\n",
       "      <td>Rejected</td>\n",
       "    </tr>\n",
       "  </tbody>\n",
       "</table>\n",
       "</div>"
      ],
      "text/plain": [
       "   loan_id   no_of_dependents      education  self_employed   income_annum  \\\n",
       "0        1                  2       Graduate             No        9600000   \n",
       "1        2                  0   Not Graduate            Yes        4100000   \n",
       "2        3                  3       Graduate             No        9100000   \n",
       "3        4                  3       Graduate             No        8200000   \n",
       "4        5                  5   Not Graduate            Yes        9800000   \n",
       "5        6                  0       Graduate            Yes        4800000   \n",
       "6        7                  5       Graduate             No        8700000   \n",
       "7        8                  2       Graduate            Yes        5700000   \n",
       "8        9                  0       Graduate            Yes         800000   \n",
       "9       10                  5   Not Graduate             No        1100000   \n",
       "\n",
       "    loan_amount   loan_term   cibil_score   residential_assets_value  \\\n",
       "0      29900000          12           778                    2400000   \n",
       "1      12200000           8           417                    2700000   \n",
       "2      29700000          20           506                    7100000   \n",
       "3      30700000           8           467                   18200000   \n",
       "4      24200000          20           382                   12400000   \n",
       "5      13500000          10           319                    6800000   \n",
       "6      33000000           4           678                   22500000   \n",
       "7      15000000          20           382                   13200000   \n",
       "8       2200000          20           782                    1300000   \n",
       "9       4300000          10           388                    3200000   \n",
       "\n",
       "    commercial_assets_value   luxury_assets_value   bank_asset_value  \\\n",
       "0                  17600000              22700000            8000000   \n",
       "1                   2200000               8800000            3300000   \n",
       "2                   4500000              33300000           12800000   \n",
       "3                   3300000              23300000            7900000   \n",
       "4                   8200000              29400000            5000000   \n",
       "5                   8300000              13700000            5100000   \n",
       "6                  14800000              29200000            4300000   \n",
       "7                   5700000              11800000            6000000   \n",
       "8                    800000               2800000             600000   \n",
       "9                   1400000               3300000            1600000   \n",
       "\n",
       "   loan_status  \n",
       "0     Approved  \n",
       "1     Rejected  \n",
       "2     Rejected  \n",
       "3     Rejected  \n",
       "4     Rejected  \n",
       "5     Rejected  \n",
       "6     Approved  \n",
       "7     Rejected  \n",
       "8     Approved  \n",
       "9     Rejected  "
      ]
     },
     "metadata": {},
     "output_type": "display_data"
    },
    {
     "name": "stdout",
     "output_type": "stream",
     "text": [
      "10 Data Terbawah: \n"
     ]
    },
    {
     "data": {
      "text/html": [
       "<div>\n",
       "<style scoped>\n",
       "    .dataframe tbody tr th:only-of-type {\n",
       "        vertical-align: middle;\n",
       "    }\n",
       "\n",
       "    .dataframe tbody tr th {\n",
       "        vertical-align: top;\n",
       "    }\n",
       "\n",
       "    .dataframe thead th {\n",
       "        text-align: right;\n",
       "    }\n",
       "</style>\n",
       "<table border=\"1\" class=\"dataframe\">\n",
       "  <thead>\n",
       "    <tr style=\"text-align: right;\">\n",
       "      <th></th>\n",
       "      <th>loan_id</th>\n",
       "      <th>no_of_dependents</th>\n",
       "      <th>education</th>\n",
       "      <th>self_employed</th>\n",
       "      <th>income_annum</th>\n",
       "      <th>loan_amount</th>\n",
       "      <th>loan_term</th>\n",
       "      <th>cibil_score</th>\n",
       "      <th>residential_assets_value</th>\n",
       "      <th>commercial_assets_value</th>\n",
       "      <th>luxury_assets_value</th>\n",
       "      <th>bank_asset_value</th>\n",
       "      <th>loan_status</th>\n",
       "    </tr>\n",
       "  </thead>\n",
       "  <tbody>\n",
       "    <tr>\n",
       "      <th>4259</th>\n",
       "      <td>4260</td>\n",
       "      <td>0</td>\n",
       "      <td>Not Graduate</td>\n",
       "      <td>Yes</td>\n",
       "      <td>4500000</td>\n",
       "      <td>11500000</td>\n",
       "      <td>14</td>\n",
       "      <td>509</td>\n",
       "      <td>13400000</td>\n",
       "      <td>2300000</td>\n",
       "      <td>15400000</td>\n",
       "      <td>5900000</td>\n",
       "      <td>Rejected</td>\n",
       "    </tr>\n",
       "    <tr>\n",
       "      <th>4260</th>\n",
       "      <td>4261</td>\n",
       "      <td>5</td>\n",
       "      <td>Graduate</td>\n",
       "      <td>No</td>\n",
       "      <td>8800000</td>\n",
       "      <td>29300000</td>\n",
       "      <td>10</td>\n",
       "      <td>560</td>\n",
       "      <td>16800000</td>\n",
       "      <td>13900000</td>\n",
       "      <td>31100000</td>\n",
       "      <td>9900000</td>\n",
       "      <td>Approved</td>\n",
       "    </tr>\n",
       "    <tr>\n",
       "      <th>4261</th>\n",
       "      <td>4262</td>\n",
       "      <td>3</td>\n",
       "      <td>Graduate</td>\n",
       "      <td>Yes</td>\n",
       "      <td>3000000</td>\n",
       "      <td>7500000</td>\n",
       "      <td>6</td>\n",
       "      <td>881</td>\n",
       "      <td>1400000</td>\n",
       "      <td>4500000</td>\n",
       "      <td>6100000</td>\n",
       "      <td>2300000</td>\n",
       "      <td>Approved</td>\n",
       "    </tr>\n",
       "    <tr>\n",
       "      <th>4262</th>\n",
       "      <td>4263</td>\n",
       "      <td>5</td>\n",
       "      <td>Graduate</td>\n",
       "      <td>No</td>\n",
       "      <td>1300000</td>\n",
       "      <td>3000000</td>\n",
       "      <td>20</td>\n",
       "      <td>540</td>\n",
       "      <td>1000000</td>\n",
       "      <td>2300000</td>\n",
       "      <td>3200000</td>\n",
       "      <td>1900000</td>\n",
       "      <td>Rejected</td>\n",
       "    </tr>\n",
       "    <tr>\n",
       "      <th>4263</th>\n",
       "      <td>4264</td>\n",
       "      <td>3</td>\n",
       "      <td>Graduate</td>\n",
       "      <td>No</td>\n",
       "      <td>5000000</td>\n",
       "      <td>12700000</td>\n",
       "      <td>14</td>\n",
       "      <td>865</td>\n",
       "      <td>4700000</td>\n",
       "      <td>8100000</td>\n",
       "      <td>19500000</td>\n",
       "      <td>6300000</td>\n",
       "      <td>Approved</td>\n",
       "    </tr>\n",
       "    <tr>\n",
       "      <th>4264</th>\n",
       "      <td>4265</td>\n",
       "      <td>5</td>\n",
       "      <td>Graduate</td>\n",
       "      <td>Yes</td>\n",
       "      <td>1000000</td>\n",
       "      <td>2300000</td>\n",
       "      <td>12</td>\n",
       "      <td>317</td>\n",
       "      <td>2800000</td>\n",
       "      <td>500000</td>\n",
       "      <td>3300000</td>\n",
       "      <td>800000</td>\n",
       "      <td>Rejected</td>\n",
       "    </tr>\n",
       "    <tr>\n",
       "      <th>4265</th>\n",
       "      <td>4266</td>\n",
       "      <td>0</td>\n",
       "      <td>Not Graduate</td>\n",
       "      <td>Yes</td>\n",
       "      <td>3300000</td>\n",
       "      <td>11300000</td>\n",
       "      <td>20</td>\n",
       "      <td>559</td>\n",
       "      <td>4200000</td>\n",
       "      <td>2900000</td>\n",
       "      <td>11000000</td>\n",
       "      <td>1900000</td>\n",
       "      <td>Approved</td>\n",
       "    </tr>\n",
       "    <tr>\n",
       "      <th>4266</th>\n",
       "      <td>4267</td>\n",
       "      <td>2</td>\n",
       "      <td>Not Graduate</td>\n",
       "      <td>No</td>\n",
       "      <td>6500000</td>\n",
       "      <td>23900000</td>\n",
       "      <td>18</td>\n",
       "      <td>457</td>\n",
       "      <td>1200000</td>\n",
       "      <td>12400000</td>\n",
       "      <td>18100000</td>\n",
       "      <td>7300000</td>\n",
       "      <td>Rejected</td>\n",
       "    </tr>\n",
       "    <tr>\n",
       "      <th>4267</th>\n",
       "      <td>4268</td>\n",
       "      <td>1</td>\n",
       "      <td>Not Graduate</td>\n",
       "      <td>No</td>\n",
       "      <td>4100000</td>\n",
       "      <td>12800000</td>\n",
       "      <td>8</td>\n",
       "      <td>780</td>\n",
       "      <td>8200000</td>\n",
       "      <td>700000</td>\n",
       "      <td>14100000</td>\n",
       "      <td>5800000</td>\n",
       "      <td>Approved</td>\n",
       "    </tr>\n",
       "    <tr>\n",
       "      <th>4268</th>\n",
       "      <td>4269</td>\n",
       "      <td>1</td>\n",
       "      <td>Graduate</td>\n",
       "      <td>No</td>\n",
       "      <td>9200000</td>\n",
       "      <td>29700000</td>\n",
       "      <td>10</td>\n",
       "      <td>607</td>\n",
       "      <td>17800000</td>\n",
       "      <td>11800000</td>\n",
       "      <td>35700000</td>\n",
       "      <td>12000000</td>\n",
       "      <td>Approved</td>\n",
       "    </tr>\n",
       "  </tbody>\n",
       "</table>\n",
       "</div>"
      ],
      "text/plain": [
       "      loan_id   no_of_dependents      education  self_employed   income_annum  \\\n",
       "4259     4260                  0   Not Graduate            Yes        4500000   \n",
       "4260     4261                  5       Graduate             No        8800000   \n",
       "4261     4262                  3       Graduate            Yes        3000000   \n",
       "4262     4263                  5       Graduate             No        1300000   \n",
       "4263     4264                  3       Graduate             No        5000000   \n",
       "4264     4265                  5       Graduate            Yes        1000000   \n",
       "4265     4266                  0   Not Graduate            Yes        3300000   \n",
       "4266     4267                  2   Not Graduate             No        6500000   \n",
       "4267     4268                  1   Not Graduate             No        4100000   \n",
       "4268     4269                  1       Graduate             No        9200000   \n",
       "\n",
       "       loan_amount   loan_term   cibil_score   residential_assets_value  \\\n",
       "4259      11500000          14           509                   13400000   \n",
       "4260      29300000          10           560                   16800000   \n",
       "4261       7500000           6           881                    1400000   \n",
       "4262       3000000          20           540                    1000000   \n",
       "4263      12700000          14           865                    4700000   \n",
       "4264       2300000          12           317                    2800000   \n",
       "4265      11300000          20           559                    4200000   \n",
       "4266      23900000          18           457                    1200000   \n",
       "4267      12800000           8           780                    8200000   \n",
       "4268      29700000          10           607                   17800000   \n",
       "\n",
       "       commercial_assets_value   luxury_assets_value   bank_asset_value  \\\n",
       "4259                   2300000              15400000            5900000   \n",
       "4260                  13900000              31100000            9900000   \n",
       "4261                   4500000               6100000            2300000   \n",
       "4262                   2300000               3200000            1900000   \n",
       "4263                   8100000              19500000            6300000   \n",
       "4264                    500000               3300000             800000   \n",
       "4265                   2900000              11000000            1900000   \n",
       "4266                  12400000              18100000            7300000   \n",
       "4267                    700000              14100000            5800000   \n",
       "4268                  11800000              35700000           12000000   \n",
       "\n",
       "      loan_status  \n",
       "4259     Rejected  \n",
       "4260     Approved  \n",
       "4261     Approved  \n",
       "4262     Rejected  \n",
       "4263     Approved  \n",
       "4264     Rejected  \n",
       "4265     Approved  \n",
       "4266     Rejected  \n",
       "4267     Approved  \n",
       "4268     Approved  "
      ]
     },
     "metadata": {},
     "output_type": "display_data"
    }
   ],
   "source": [
    "# Menampilkan data 10 teratas\n",
    "print('10 Data Teratas: ')\n",
    "display(loan.head(10))\n",
    "\n",
    "# Menampilkan data 10 terbawah\n",
    "print('10 Data Terbawah: ')\n",
    "display(loan.tail(10))"
   ]
  },
  {
   "cell_type": "markdown",
   "metadata": {},
   "source": [
    "Data 10 teratas dan 10 terbawah sudah berhasil ditampilkan, selanjutnya pengecekan informasi data"
   ]
  },
  {
   "cell_type": "markdown",
   "metadata": {},
   "source": [
    "## Menampilkan Informasi Data"
   ]
  },
  {
   "cell_type": "code",
   "execution_count": 4,
   "metadata": {},
   "outputs": [
    {
     "name": "stdout",
     "output_type": "stream",
     "text": [
      "<class 'pandas.core.frame.DataFrame'>\n",
      "RangeIndex: 4269 entries, 0 to 4268\n",
      "Data columns (total 13 columns):\n",
      " #   Column                     Non-Null Count  Dtype \n",
      "---  ------                     --------------  ----- \n",
      " 0   loan_id                    4269 non-null   int64 \n",
      " 1    no_of_dependents          4269 non-null   int64 \n",
      " 2    education                 4269 non-null   object\n",
      " 3    self_employed             4269 non-null   object\n",
      " 4    income_annum              4269 non-null   int64 \n",
      " 5    loan_amount               4269 non-null   int64 \n",
      " 6    loan_term                 4269 non-null   int64 \n",
      " 7    cibil_score               4269 non-null   int64 \n",
      " 8    residential_assets_value  4269 non-null   int64 \n",
      " 9    commercial_assets_value   4269 non-null   int64 \n",
      " 10   luxury_assets_value       4269 non-null   int64 \n",
      " 11   bank_asset_value          4269 non-null   int64 \n",
      " 12   loan_status               4269 non-null   object\n",
      "dtypes: int64(10), object(3)\n",
      "memory usage: 433.7+ KB\n"
     ]
    }
   ],
   "source": [
    "loan.info()"
   ]
  },
  {
   "cell_type": "markdown",
   "metadata": {},
   "source": [
    "Data yang ditampilkan memiliki 13 kolom dan 4269 baris, dimana pada data tersebut terdapat 10 kolom dengan tipe int64, dan 3 kolom dengan tipe object. "
   ]
  },
  {
   "cell_type": "code",
   "execution_count": 5,
   "metadata": {},
   "outputs": [
    {
     "data": {
      "text/plain": [
       "['loan_id',\n",
       " ' no_of_dependents',\n",
       " ' education',\n",
       " ' self_employed',\n",
       " ' income_annum',\n",
       " ' loan_amount',\n",
       " ' loan_term',\n",
       " ' cibil_score',\n",
       " ' residential_assets_value',\n",
       " ' commercial_assets_value',\n",
       " ' luxury_assets_value',\n",
       " ' bank_asset_value',\n",
       " ' loan_status']"
      ]
     },
     "execution_count": 5,
     "metadata": {},
     "output_type": "execute_result"
    }
   ],
   "source": [
    "# Menampilkan Daftar Kolom dalam Bentuk List\n",
    "list(loan.columns)"
   ]
  },
  {
   "cell_type": "markdown",
   "metadata": {},
   "source": [
    "Informasi diatas merupakan informasi nama-nama kolom didalam dataset. Namun jika dilihat nama kolom diatas terdapat nama kolom yang berisi spasi kosong. Maka dari itu harus dilakukan penghapusan spasi kosong yang ada didalam nama kolom tersebut."
   ]
  },
  {
   "cell_type": "code",
   "execution_count": 6,
   "metadata": {},
   "outputs": [
    {
     "name": "stdout",
     "output_type": "stream",
     "text": [
      "<class 'pandas.core.frame.DataFrame'>\n",
      "RangeIndex: 4269 entries, 0 to 4268\n",
      "Data columns (total 13 columns):\n",
      " #   Column                    Non-Null Count  Dtype \n",
      "---  ------                    --------------  ----- \n",
      " 0   loan_id                   4269 non-null   int64 \n",
      " 1   no_of_dependents          4269 non-null   int64 \n",
      " 2   education                 4269 non-null   object\n",
      " 3   self_employed             4269 non-null   object\n",
      " 4   income_annum              4269 non-null   int64 \n",
      " 5   loan_amount               4269 non-null   int64 \n",
      " 6   loan_term                 4269 non-null   int64 \n",
      " 7   cibil_score               4269 non-null   int64 \n",
      " 8   residential_assets_value  4269 non-null   int64 \n",
      " 9   commercial_assets_value   4269 non-null   int64 \n",
      " 10  luxury_assets_value       4269 non-null   int64 \n",
      " 11  bank_asset_value          4269 non-null   int64 \n",
      " 12  loan_status               4269 non-null   object\n",
      "dtypes: int64(10), object(3)\n",
      "memory usage: 433.7+ KB\n"
     ]
    }
   ],
   "source": [
    "# Menghapus Spasi yang Terdapat didalam Nama Kolom\n",
    "loan.columns = loan.columns.str.replace(' ','')\n",
    "\n",
    "# Menampilkan Data\n",
    "loan.info()"
   ]
  },
  {
   "cell_type": "markdown",
   "metadata": {},
   "source": [
    "Nama kolom sudah sesuai (tidak ada spasi kosong didalamnya). "
   ]
  },
  {
   "cell_type": "markdown",
   "metadata": {},
   "source": [
    "| Column Name | Data Type | Description |\n",
    "|---|---|---|\n",
    "| `loan_id` | INT64 | Identitas Pemohon |\n",
    "| `no_of_dependents` | INT64 | Jumlah Tanggungan Pemohon |\n",
    "| `education` | OBJECT | Status Pendidikan Pemohon |\n",
    "| `self_employed` | OBJECT | Status Pekerjaan Pemohon |\n",
    "| `income_annum` | INT64 | Pendapatan Tahunan Pemohon |\n",
    "| `loan_amount` | INT64 | Jumlah Pinjaman |\n",
    "| `loan_term` | INT64 | Jangka Waktu Pinjaman (dalam Tahun) |\n",
    "| `cibil_score` | INT64 | Skor Kredit |\n",
    "| `residential_assets_value` | INT64 | Nilai Aset Properti (Rumah) |\n",
    "| `commercial_assets_value` | INT64 | Nilai Aset Komersial |\n",
    "| `luxury_assets_value` | INT64 | Nilai Aset Barang Mewah (Mobil Mewah, Perhiasan, Rumah Mewah) |\n",
    "| `bank_asset_value` | INT64 | Nilai Aset di Bank |\n",
    "| `loan_status` | OBJECT | Status Pinjaman |"
   ]
  },
  {
   "cell_type": "markdown",
   "metadata": {},
   "source": [
    "Data diatas merupakan penjelasan dari setiap kolom. Sebagai informasi tambahan, kolom loan_id dan kolom loan_term merupakan kolom categorical namun sudah dilakukan encode."
   ]
  },
  {
   "cell_type": "code",
   "execution_count": 7,
   "metadata": {},
   "outputs": [
    {
     "data": {
      "text/html": [
       "<div>\n",
       "<style scoped>\n",
       "    .dataframe tbody tr th:only-of-type {\n",
       "        vertical-align: middle;\n",
       "    }\n",
       "\n",
       "    .dataframe tbody tr th {\n",
       "        vertical-align: top;\n",
       "    }\n",
       "\n",
       "    .dataframe thead th {\n",
       "        text-align: right;\n",
       "    }\n",
       "</style>\n",
       "<table border=\"1\" class=\"dataframe\">\n",
       "  <thead>\n",
       "    <tr style=\"text-align: right;\">\n",
       "      <th></th>\n",
       "      <th>count</th>\n",
       "      <th>mean</th>\n",
       "      <th>std</th>\n",
       "      <th>min</th>\n",
       "      <th>25%</th>\n",
       "      <th>50%</th>\n",
       "      <th>75%</th>\n",
       "      <th>max</th>\n",
       "    </tr>\n",
       "  </thead>\n",
       "  <tbody>\n",
       "    <tr>\n",
       "      <th>loan_id</th>\n",
       "      <td>4269.0</td>\n",
       "      <td>2.135000e+03</td>\n",
       "      <td>1.232498e+03</td>\n",
       "      <td>1.0</td>\n",
       "      <td>1068.0</td>\n",
       "      <td>2135.0</td>\n",
       "      <td>3202.0</td>\n",
       "      <td>4269.0</td>\n",
       "    </tr>\n",
       "    <tr>\n",
       "      <th>no_of_dependents</th>\n",
       "      <td>4269.0</td>\n",
       "      <td>2.498712e+00</td>\n",
       "      <td>1.695910e+00</td>\n",
       "      <td>0.0</td>\n",
       "      <td>1.0</td>\n",
       "      <td>3.0</td>\n",
       "      <td>4.0</td>\n",
       "      <td>5.0</td>\n",
       "    </tr>\n",
       "    <tr>\n",
       "      <th>income_annum</th>\n",
       "      <td>4269.0</td>\n",
       "      <td>5.059124e+06</td>\n",
       "      <td>2.806840e+06</td>\n",
       "      <td>200000.0</td>\n",
       "      <td>2700000.0</td>\n",
       "      <td>5100000.0</td>\n",
       "      <td>7500000.0</td>\n",
       "      <td>9900000.0</td>\n",
       "    </tr>\n",
       "    <tr>\n",
       "      <th>loan_amount</th>\n",
       "      <td>4269.0</td>\n",
       "      <td>1.513345e+07</td>\n",
       "      <td>9.043363e+06</td>\n",
       "      <td>300000.0</td>\n",
       "      <td>7700000.0</td>\n",
       "      <td>14500000.0</td>\n",
       "      <td>21500000.0</td>\n",
       "      <td>39500000.0</td>\n",
       "    </tr>\n",
       "    <tr>\n",
       "      <th>loan_term</th>\n",
       "      <td>4269.0</td>\n",
       "      <td>1.090045e+01</td>\n",
       "      <td>5.709187e+00</td>\n",
       "      <td>2.0</td>\n",
       "      <td>6.0</td>\n",
       "      <td>10.0</td>\n",
       "      <td>16.0</td>\n",
       "      <td>20.0</td>\n",
       "    </tr>\n",
       "    <tr>\n",
       "      <th>cibil_score</th>\n",
       "      <td>4269.0</td>\n",
       "      <td>5.999361e+02</td>\n",
       "      <td>1.724304e+02</td>\n",
       "      <td>300.0</td>\n",
       "      <td>453.0</td>\n",
       "      <td>600.0</td>\n",
       "      <td>748.0</td>\n",
       "      <td>900.0</td>\n",
       "    </tr>\n",
       "    <tr>\n",
       "      <th>residential_assets_value</th>\n",
       "      <td>4269.0</td>\n",
       "      <td>7.472617e+06</td>\n",
       "      <td>6.503637e+06</td>\n",
       "      <td>-100000.0</td>\n",
       "      <td>2200000.0</td>\n",
       "      <td>5600000.0</td>\n",
       "      <td>11300000.0</td>\n",
       "      <td>29100000.0</td>\n",
       "    </tr>\n",
       "    <tr>\n",
       "      <th>commercial_assets_value</th>\n",
       "      <td>4269.0</td>\n",
       "      <td>4.973155e+06</td>\n",
       "      <td>4.388966e+06</td>\n",
       "      <td>0.0</td>\n",
       "      <td>1300000.0</td>\n",
       "      <td>3700000.0</td>\n",
       "      <td>7600000.0</td>\n",
       "      <td>19400000.0</td>\n",
       "    </tr>\n",
       "    <tr>\n",
       "      <th>luxury_assets_value</th>\n",
       "      <td>4269.0</td>\n",
       "      <td>1.512631e+07</td>\n",
       "      <td>9.103754e+06</td>\n",
       "      <td>300000.0</td>\n",
       "      <td>7500000.0</td>\n",
       "      <td>14600000.0</td>\n",
       "      <td>21700000.0</td>\n",
       "      <td>39200000.0</td>\n",
       "    </tr>\n",
       "    <tr>\n",
       "      <th>bank_asset_value</th>\n",
       "      <td>4269.0</td>\n",
       "      <td>4.976692e+06</td>\n",
       "      <td>3.250185e+06</td>\n",
       "      <td>0.0</td>\n",
       "      <td>2300000.0</td>\n",
       "      <td>4600000.0</td>\n",
       "      <td>7100000.0</td>\n",
       "      <td>14700000.0</td>\n",
       "    </tr>\n",
       "  </tbody>\n",
       "</table>\n",
       "</div>"
      ],
      "text/plain": [
       "                           count          mean           std       min  \\\n",
       "loan_id                   4269.0  2.135000e+03  1.232498e+03       1.0   \n",
       "no_of_dependents          4269.0  2.498712e+00  1.695910e+00       0.0   \n",
       "income_annum              4269.0  5.059124e+06  2.806840e+06  200000.0   \n",
       "loan_amount               4269.0  1.513345e+07  9.043363e+06  300000.0   \n",
       "loan_term                 4269.0  1.090045e+01  5.709187e+00       2.0   \n",
       "cibil_score               4269.0  5.999361e+02  1.724304e+02     300.0   \n",
       "residential_assets_value  4269.0  7.472617e+06  6.503637e+06 -100000.0   \n",
       "commercial_assets_value   4269.0  4.973155e+06  4.388966e+06       0.0   \n",
       "luxury_assets_value       4269.0  1.512631e+07  9.103754e+06  300000.0   \n",
       "bank_asset_value          4269.0  4.976692e+06  3.250185e+06       0.0   \n",
       "\n",
       "                                25%         50%         75%         max  \n",
       "loan_id                      1068.0      2135.0      3202.0      4269.0  \n",
       "no_of_dependents                1.0         3.0         4.0         5.0  \n",
       "income_annum              2700000.0   5100000.0   7500000.0   9900000.0  \n",
       "loan_amount               7700000.0  14500000.0  21500000.0  39500000.0  \n",
       "loan_term                       6.0        10.0        16.0        20.0  \n",
       "cibil_score                   453.0       600.0       748.0       900.0  \n",
       "residential_assets_value  2200000.0   5600000.0  11300000.0  29100000.0  \n",
       "commercial_assets_value   1300000.0   3700000.0   7600000.0  19400000.0  \n",
       "luxury_assets_value       7500000.0  14600000.0  21700000.0  39200000.0  \n",
       "bank_asset_value          2300000.0   4600000.0   7100000.0  14700000.0  "
      ]
     },
     "execution_count": 7,
     "metadata": {},
     "output_type": "execute_result"
    }
   ],
   "source": [
    "# Melakukan pengecekan pada dataset\n",
    "loan.describe().T     # (T= mengganti baris jd kolom, dan kolom jadi baris)"
   ]
  },
  {
   "cell_type": "code",
   "execution_count": 8,
   "metadata": {},
   "outputs": [],
   "source": [
    "# Melakukan duplicate dataset\n",
    "loan_copy = loan.copy()"
   ]
  },
  {
   "cell_type": "markdown",
   "metadata": {},
   "source": [
    "Membuat duplicate dataset yang diberi nama loan_copy. Duplikasi data dilakukan agar pengolahan data yang akan dilakukan tidak menggunakan data asli (tidak merusak data aslinya)."
   ]
  },
  {
   "cell_type": "markdown",
   "metadata": {},
   "source": [
    "# 3. Exploratory Data Analysis (EDA)"
   ]
  },
  {
   "cell_type": "markdown",
   "metadata": {},
   "source": [
    "## Berapa persentase permohonan pinjaman yang disetujui dengan permohonan pinjaman yang ditolak?"
   ]
  },
  {
   "cell_type": "code",
   "execution_count": 9,
   "metadata": {},
   "outputs": [
    {
     "data": {
      "image/png": "[encoded data removed]",
      "text/plain": [
       "<Figure size 640x480 with 1 Axes>"
      ]
     },
     "metadata": {},
     "output_type": "display_data"
    }
   ],
   "source": [
    "# Pie chart untuk melihat persentase dari status pinjaman (loan_status)\n",
    "persentase_status_pinjaman = loan['loan_status'].value_counts()\n",
    "plt.pie(persentase_status_pinjaman, labels=persentase_status_pinjaman.index, autopct='%1.1f%%', startangle=90)\n",
    "plt.title('Distribusi dari Status Pinjaman')\n",
    "plt.show()"
   ]
  },
  {
   "cell_type": "markdown",
   "metadata": {},
   "source": [
    "Terlihat dari visualisasi pie chart diatas bahwa persentase pinjaman yang disetujui adalah sebesar 62.2% sedangkan pinjaman yang ditolak adalah sebesar 37.8%. Dapat disimpulkan bahwa dari dataset tersebut persentase pinjaman yang disetujui lebih besar dibandingkan dengan persentase pinjaman yang ditolak."
   ]
  },
  {
   "cell_type": "markdown",
   "metadata": {},
   "source": [
    "## Bagaimana perbandingan skor kredit terhadap status pinjaman?"
   ]
  },
  {
   "cell_type": "code",
   "execution_count": 10,
   "metadata": {},
   "outputs": [
    {
     "data": {
      "image/png": "[encoded data removed]",
      "text/plain": [
       "<Figure size 1000x600 with 1 Axes>"
      ]
     },
     "metadata": {},
     "output_type": "display_data"
    }
   ],
   "source": [
    "# Plotting\n",
    "plt.figure(figsize=(10, 6))\n",
    "ax = sns.histplot(data=loan, x='cibil_score', bins=4, hue='loan_status', multiple='stack')\n",
    "\n",
    "# Menambahkan angka pada tiap bin\n",
    "for p in ax.patches:\n",
    "    height = p.get_height()\n",
    "    ax.annotate(f'{height:.0f}', (p.get_x() + p.get_width() / 2., height),\n",
    "                ha='center', va='baseline', fontsize=10, color='black', xytext=(0, 5),\n",
    "                textcoords='offset points')\n",
    "\n",
    "plt.title('Pengaruh Skor Kredit terhadap Status Pinjaman')\n",
    "plt.show()"
   ]
  },
  {
   "cell_type": "markdown",
   "metadata": {},
   "source": [
    "Dari visualisasi diatas dapat disimpulkan bahwa semakin tinggi nilai kredit skor, maka semakin besar peluang permohonan pinjaman disetujui."
   ]
  },
  {
   "cell_type": "markdown",
   "metadata": {},
   "source": [
    "## Bagaimana perbandingan status pendidikan terhadap status pinjaman?"
   ]
  },
  {
   "cell_type": "code",
   "execution_count": 11,
   "metadata": {},
   "outputs": [
    {
     "data": {
      "image/png": "[encoded data removed]",
      "text/plain": [
       "<Figure size 640x480 with 1 Axes>"
      ]
     },
     "metadata": {},
     "output_type": "display_data"
    }
   ],
   "source": [
    "# Merata-ratakan jumlah status pinjaman pada masing-masing self_employed 'Yes' dan 'No'\n",
    "avg_loan_status = loan.groupby('self_employed')['loan_status'].value_counts(normalize=True).unstack()\n",
    "\n",
    "# Barplot\n",
    "ax = avg_loan_status.plot(kind='bar', stacked=True)\n",
    "plt.title('Hubungan antara Self Employed dan Status Pinjaman')\n",
    "plt.xlabel('Self Employed')\n",
    "plt.ylabel('Prosentase')\n",
    "plt.legend(title='Loan Status', loc='upper right')\n",
    "\n",
    "# Menambahkan label persentase pada setiap bagian dari bar\n",
    "for p in ax.patches:\n",
    "    width, height = p.get_width(), p.get_height()\n",
    "    x, y = p.get_xy()\n",
    "    ax.annotate(f'{height:.0%}', (x + width / 2, y + height / 2), ha='center', va='center')\n",
    "\n",
    "plt.show()"
   ]
  },
  {
   "cell_type": "markdown",
   "metadata": {},
   "source": [
    "Dari visualisasi diatas, dapat disimpulkan bahwa status pekerjaan pemohon baik yang bekerja maupun yang tidak bekerja tidak berdampak signifikan terhadap status pinjaman. Terlihat bahwa jumlah status pinjaman disetujui dan pinjaman ditolak pada setiap status pekerjaan memiliki persentase yang sama, yaitu pinjaman disetujui sebesar 62% dan pinjaman ditolak sebesar 38%."
   ]
  },
  {
   "cell_type": "markdown",
   "metadata": {},
   "source": [
    "## Bagaimana distribusi data dari jumlah pinjaman? Sebutkan juga 3 jumlah pinjaman tertinggi"
   ]
  },
  {
   "cell_type": "code",
   "execution_count": 12,
   "metadata": {},
   "outputs": [
    {
     "data": {
      "image/png": "[encoded data removed]",
      "text/plain": [
       "<Figure size 1000x600 with 1 Axes>"
      ]
     },
     "metadata": {},
     "output_type": "display_data"
    },
    {
     "name": "stdout",
     "output_type": "stream",
     "text": [
      "3 Jumlah Pinjaman Tertinggi:\n",
      "509     39500000\n",
      "258     38800000\n",
      "1027    38700000\n",
      "Name: loan_amount, dtype: int64\n"
     ]
    }
   ],
   "source": [
    "# Visualisasi distribusi data loan_amount menggunakan histogram\n",
    "plt.figure(figsize=(10, 6))\n",
    "sns.histplot(loan['loan_amount'], bins=20, kde=True, color='skyblue')\n",
    "plt.title('Distribusi Data Loan Amount')\n",
    "plt.xlabel('Loan Amount')\n",
    "plt.ylabel('Frekuensi')\n",
    "\n",
    "# Menampilkan visualisasi\n",
    "plt.show()\n",
    "\n",
    "# Menemukan 3 Jumlah Pinjaman Tertinggi\n",
    "top_n = 3 \n",
    "top_credit_limit_customers = loan.nlargest(top_n, 'loan_amount')\n",
    "\n",
    "# Menampilkan 3 Jumlah Pinjaman Tertinggi\n",
    "print(\"3 Jumlah Pinjaman Tertinggi:\")\n",
    "print(top_credit_limit_customers['loan_amount'])"
   ]
  },
  {
   "cell_type": "markdown",
   "metadata": {},
   "source": [
    "Dari visualisasi histogram diatas dapat terlihat untuk persebaran distribusi data loan_amount menunjukkan adanya kemiringan ke kanan (positif) dan ekor distribusi lebih panjang ke sebelah kanan. Kemudian untuk 3 jumlah pinjaman tertinggi diposisi pertama adalah pemohon dengan loan ID 509 dengan jumlah pinjaman sebesar 39.500.000, kemudian diposisi kedua adalah pemohon dengan loan ID 258 dengan jumlah pinjaman sebesar 38.800.000, dan diposisi ketiga adalah pemohon dengan loan ID 1027 dengan jumlah pinjaman sebesar 38.700.000"
   ]
  },
  {
   "cell_type": "markdown",
   "metadata": {},
   "source": [
    "## Bagaimana perbandingan jangka waktu pinjaman terhadap status pinjaman?"
   ]
  },
  {
   "cell_type": "code",
   "execution_count": 13,
   "metadata": {},
   "outputs": [
    {
     "data": {
      "image/png": "[encoded data removed]",
      "text/plain": [
       "<Figure size 1000x600 with 1 Axes>"
      ]
     },
     "metadata": {},
     "output_type": "display_data"
    }
   ],
   "source": [
    "# Memvisualisasikan pengaruh jangka waktu pinjaman terhadap status pinjaman\n",
    "plt.figure(figsize=(10, 6))\n",
    "ax = sns.countplot(x='loan_term', hue='loan_status', data=loan)\n",
    "\n",
    "# Menambahkan label angka di atas setiap bar\n",
    "for p in ax.patches:\n",
    "    ax.annotate(f'{p.get_height()}', (p.get_x() + p.get_width() / 2., p.get_height()),\n",
    "                ha='center', va='center', fontsize=10, color='black', xytext=(0, 10),\n",
    "                textcoords='offset points')\n",
    "\n",
    "plt.title('Pengaruh Jangka Waktu Pinjaman terhadap Status Pinjaman')\n",
    "plt.show()\n"
   ]
  },
  {
   "cell_type": "markdown",
   "metadata": {},
   "source": [
    "Berdasarkan visualisasi diatas, dapat dilihat bahwa pinjaman dengan jangka waktu yang lebih lama cenderung lebih sering ditolak daripada pinjaman dengan jangka waktu yang lebih pendek. Sedangkan pinjaman dengan jangka waktu yang lebih pendek cenderung memiliki peluang yang lebih besar untuk disetujui."
   ]
  },
  {
   "cell_type": "markdown",
   "metadata": {},
   "source": [
    "## Bagaimana hubungan antara Jumlah Pendapatan per Tahun terhadap vs Jumlah Pinjaman?"
   ]
  },
  {
   "cell_type": "code",
   "execution_count": 14,
   "metadata": {},
   "outputs": [
    {
     "data": {
      "image/png": "[encoded data removed]",
      "text/plain": [
       "<Figure size 640x480 with 1 Axes>"
      ]
     },
     "metadata": {},
     "output_type": "display_data"
    }
   ],
   "source": [
    "sns.lineplot(x='income_annum', y='loan_amount', data=loan, hue='loan_status', palette='Set1')\n",
    "plt.title('Hubungan antara Jumlah Pendapatan per Tahun terhadap vs Jumlah Pinjaman')\n",
    "plt.show()"
   ]
  },
  {
   "cell_type": "markdown",
   "metadata": {},
   "source": [
    "Visualisasi diatas menunjukkan bahwa ada kemungkinan antara jumlah pendapatan pertahun dengan jumlah pinjaman memiliki korelasi positif. Artinya semakin tinggi jumlah pendapatan pertahun, maka semakin besar jumlah pinjaman yang diajukan."
   ]
  },
  {
   "cell_type": "markdown",
   "metadata": {},
   "source": [
    "# 4. Feature Engineering"
   ]
  },
  {
   "cell_type": "markdown",
   "metadata": {},
   "source": [
    "## 4.1 Pra processing"
   ]
  },
  {
   "cell_type": "markdown",
   "metadata": {},
   "source": [
    "### Pengecekan Data Duplicate"
   ]
  },
  {
   "cell_type": "code",
   "execution_count": 15,
   "metadata": {},
   "outputs": [
    {
     "data": {
      "text/plain": [
       "0"
      ]
     },
     "execution_count": 15,
     "metadata": {},
     "output_type": "execute_result"
    }
   ],
   "source": [
    "# Melakukan pengecekan data duplicate\n",
    "loan_copy.duplicated().sum()"
   ]
  },
  {
   "cell_type": "markdown",
   "metadata": {},
   "source": [
    "Data diatas menunjukkan tidak terdapat data duplicate pada setiap kolom."
   ]
  },
  {
   "cell_type": "markdown",
   "metadata": {},
   "source": [
    "### Pengecekan Missing Values"
   ]
  },
  {
   "cell_type": "code",
   "execution_count": 16,
   "metadata": {},
   "outputs": [
    {
     "data": {
      "text/plain": [
       "loan_id                     0\n",
       "no_of_dependents            0\n",
       "education                   0\n",
       "self_employed               0\n",
       "income_annum                0\n",
       "loan_amount                 0\n",
       "loan_term                   0\n",
       "cibil_score                 0\n",
       "residential_assets_value    0\n",
       "commercial_assets_value     0\n",
       "luxury_assets_value         0\n",
       "bank_asset_value            0\n",
       "loan_status                 0\n",
       "dtype: int64"
      ]
     },
     "execution_count": 16,
     "metadata": {},
     "output_type": "execute_result"
    }
   ],
   "source": [
    "# Melihat apakah terdapat missing value pada data.\n",
    "loan_copy.isna().sum()"
   ]
  },
  {
   "cell_type": "markdown",
   "metadata": {},
   "source": [
    "Data diatas menunjukkan tidak terdapat missing values pada setiap kolom."
   ]
  },
  {
   "cell_type": "markdown",
   "metadata": {},
   "source": [
    "### Pengecekan Cardinality"
   ]
  },
  {
   "cell_type": "code",
   "execution_count": 17,
   "metadata": {},
   "outputs": [
    {
     "data": {
      "text/html": [
       "<div>\n",
       "<style scoped>\n",
       "    .dataframe tbody tr th:only-of-type {\n",
       "        vertical-align: middle;\n",
       "    }\n",
       "\n",
       "    .dataframe tbody tr th {\n",
       "        vertical-align: top;\n",
       "    }\n",
       "\n",
       "    .dataframe thead th {\n",
       "        text-align: right;\n",
       "    }\n",
       "</style>\n",
       "<table border=\"1\" class=\"dataframe\">\n",
       "  <thead>\n",
       "    <tr style=\"text-align: right;\">\n",
       "      <th></th>\n",
       "      <th>Nama Kolom</th>\n",
       "      <th>Jumlah Unique Value</th>\n",
       "    </tr>\n",
       "  </thead>\n",
       "  <tbody>\n",
       "    <tr>\n",
       "      <th>0</th>\n",
       "      <td>loan_id</td>\n",
       "      <td>4269</td>\n",
       "    </tr>\n",
       "    <tr>\n",
       "      <th>1</th>\n",
       "      <td>no_of_dependents</td>\n",
       "      <td>6</td>\n",
       "    </tr>\n",
       "    <tr>\n",
       "      <th>2</th>\n",
       "      <td>education</td>\n",
       "      <td>2</td>\n",
       "    </tr>\n",
       "    <tr>\n",
       "      <th>3</th>\n",
       "      <td>self_employed</td>\n",
       "      <td>2</td>\n",
       "    </tr>\n",
       "    <tr>\n",
       "      <th>4</th>\n",
       "      <td>income_annum</td>\n",
       "      <td>98</td>\n",
       "    </tr>\n",
       "    <tr>\n",
       "      <th>5</th>\n",
       "      <td>loan_amount</td>\n",
       "      <td>378</td>\n",
       "    </tr>\n",
       "    <tr>\n",
       "      <th>6</th>\n",
       "      <td>loan_term</td>\n",
       "      <td>10</td>\n",
       "    </tr>\n",
       "    <tr>\n",
       "      <th>7</th>\n",
       "      <td>cibil_score</td>\n",
       "      <td>601</td>\n",
       "    </tr>\n",
       "    <tr>\n",
       "      <th>8</th>\n",
       "      <td>residential_assets_value</td>\n",
       "      <td>278</td>\n",
       "    </tr>\n",
       "    <tr>\n",
       "      <th>9</th>\n",
       "      <td>commercial_assets_value</td>\n",
       "      <td>188</td>\n",
       "    </tr>\n",
       "    <tr>\n",
       "      <th>10</th>\n",
       "      <td>luxury_assets_value</td>\n",
       "      <td>379</td>\n",
       "    </tr>\n",
       "    <tr>\n",
       "      <th>11</th>\n",
       "      <td>bank_asset_value</td>\n",
       "      <td>146</td>\n",
       "    </tr>\n",
       "    <tr>\n",
       "      <th>12</th>\n",
       "      <td>loan_status</td>\n",
       "      <td>2</td>\n",
       "    </tr>\n",
       "  </tbody>\n",
       "</table>\n",
       "</div>"
      ],
      "text/plain": [
       "                  Nama Kolom  Jumlah Unique Value\n",
       "0                    loan_id                 4269\n",
       "1           no_of_dependents                    6\n",
       "2                  education                    2\n",
       "3              self_employed                    2\n",
       "4               income_annum                   98\n",
       "5                loan_amount                  378\n",
       "6                  loan_term                   10\n",
       "7                cibil_score                  601\n",
       "8   residential_assets_value                  278\n",
       "9    commercial_assets_value                  188\n",
       "10       luxury_assets_value                  379\n",
       "11          bank_asset_value                  146\n",
       "12               loan_status                    2"
      ]
     },
     "execution_count": 17,
     "metadata": {},
     "output_type": "execute_result"
    }
   ],
   "source": [
    "# Membuat looping untuk unique values dari setiap kolom\n",
    "listItem = []\n",
    "for col in loan_copy.columns:\n",
    "    listItem.append([col, loan_copy[col].nunique()])\n",
    "\n",
    "# Membuat dataframe baru\n",
    "unique_values = pd.DataFrame(columns=['Nama Kolom', 'Jumlah Unique Value'],\n",
    "                             data=listItem)\n",
    "\n",
    "# Menampilkan data\n",
    "unique_values\n"
   ]
  },
  {
   "cell_type": "markdown",
   "metadata": {},
   "source": [
    "Dari hasil pengecekan cardinality, terlihat bahwa beberapa kolom yang memiliki cardinality rendah (sedikit nilai unik), dan ada juga beberapa kolom lainnya memiliki cardinality tinggi (banyak nilai unik). Cardinality yang rendah dapat memudahkan analisis, sedangkan cardinality yang tinggi dapat menunjukkan variasi yang lebih besar dalam data."
   ]
  },
  {
   "cell_type": "code",
   "execution_count": 18,
   "metadata": {},
   "outputs": [
    {
     "data": {
      "text/plain": [
       "0       1\n",
       "1       0\n",
       "2       0\n",
       "3       0\n",
       "4       0\n",
       "       ..\n",
       "4264    0\n",
       "4265    1\n",
       "4266    0\n",
       "4267    1\n",
       "4268    1\n",
       "Name: loan_status, Length: 4269, dtype: int64"
      ]
     },
     "execution_count": 18,
     "metadata": {},
     "output_type": "execute_result"
    }
   ],
   "source": [
    "# Mengganti nilai pada loan_status menjadi approved = 1 dan rejected = 0\n",
    "loan_copy['loan_status'] = loan_copy['loan_status'].map({' Approved': 1, ' Rejected': 0})\n",
    "\n",
    "# Menampilkan data\n",
    "loan_copy['loan_status']"
   ]
  },
  {
   "cell_type": "markdown",
   "metadata": {},
   "source": [
    "Terlihat dari hasil diatas telah berhasil dilakukan perubahan pada kategori 'loan_status' dimana 'Approved': 1, ' Rejected': 0, hal ini di lakukan untuk memudahkan data training "
   ]
  },
  {
   "cell_type": "markdown",
   "metadata": {},
   "source": [
    "## 4.2 Define Kolom Categorical dan Kolom Numerical"
   ]
  },
  {
   "cell_type": "markdown",
   "metadata": {},
   "source": [
    "### A. Kolom Categorical"
   ]
  },
  {
   "cell_type": "markdown",
   "metadata": {},
   "source": [
    "Pada pengecekan korelasi kolom categorical ini akan menggunakan uji Kendall"
   ]
  },
  {
   "cell_type": "code",
   "execution_count": 19,
   "metadata": {},
   "outputs": [],
   "source": [
    "# Membuat variabel baru yang berisi kolom categorical\n",
    "categorical_columns = loan_copy[['loan_id',\n",
    "                                 'no_of_dependents',\n",
    "                                 'education',\n",
    "                                 'self_employed',\n",
    "                                 'loan_term',\n",
    "                                 'loan_status'\n",
    "                                 ]]"
   ]
  },
  {
   "cell_type": "code",
   "execution_count": 20,
   "metadata": {},
   "outputs": [
    {
     "name": "stdout",
     "output_type": "stream",
     "text": [
      "loan_id dengan Loan Status\n",
      "Nilai korelasi :0.014441467219101053\n",
      "P-value :0.24794198312880267 -> Tidak ada Korelasi\n",
      "\n",
      "no_of_dependents dengan Loan Status\n",
      "Nilai korelasi :-0.015977135991766887\n",
      "P-value :0.23662633243605036 -> Tidak ada Korelasi\n",
      "\n",
      "education dengan Loan Status\n",
      "Nilai korelasi :-0.004917865960694056\n",
      "P-value :0.7479952953723881 -> Tidak ada Korelasi\n",
      "\n",
      "self_employed dengan Loan Status\n",
      "Nilai korelasi :0.00034450753494382863\n",
      "P-value :0.9820438043874453 -> Tidak ada Korelasi\n",
      "\n",
      "loan_term dengan Loan Status\n",
      "Nilai korelasi :-0.09827455673589984\n",
      "P-value :6.586624607501219e-14 -> Terdapat Korelasi\n",
      "\n",
      "loan_status dengan Loan Status\n",
      "Nilai korelasi :1.0\n",
      "P-value :0.0 -> Terdapat Korelasi\n",
      "\n"
     ]
    }
   ],
   "source": [
    "# Menggunakan uji Kendall\n",
    "for i in categorical_columns:\n",
    "     \n",
    "    corr, pval = stats.kendalltau(loan_copy[i],loan_copy['loan_status'])\n",
    "    print(f\"{i} dengan Loan Status\")\n",
    "    print(f\"Nilai korelasi :{corr}\")\n",
    "    if pval < 0.05:\n",
    "        print(f\"P-value :{pval} -> Terdapat Korelasi\")\n",
    "    else:\n",
    "        print(f\"P-value :{pval} -> Tidak ada Korelasi\")\n",
    "\n",
    "    print()"
   ]
  },
  {
   "cell_type": "markdown",
   "metadata": {},
   "source": [
    "Dari hasil uji Kendall pada kolom categorical diatas, dapat terlihat bahwa kolom 'loan_term' memiliki nilai korelasi 0.098 dan nilai P 6.58 yang artinya kolom tersebut memiliki korelasi dengan kolom target 'loan_status'. Sehingga kolom 'loan_term' tersebut dipilih sebagai feature."
   ]
  },
  {
   "cell_type": "markdown",
   "metadata": {},
   "source": [
    "### B. Kolom Numerical"
   ]
  },
  {
   "cell_type": "markdown",
   "metadata": {},
   "source": [
    "Pada pengecekan korelasi kolom categorical ini akan menggunakan uji Pearson"
   ]
  },
  {
   "cell_type": "code",
   "execution_count": 21,
   "metadata": {},
   "outputs": [],
   "source": [
    "# Membuat variabel baru yang berisi kolom numerical\n",
    "numerical_columns = loan_copy[['income_annum',\n",
    "                                'loan_amount',\n",
    "                                'cibil_score',\n",
    "                                'residential_assets_value',\n",
    "                                'commercial_assets_value',\n",
    "                                'luxury_assets_value',\n",
    "                                'bank_asset_value',\n",
    "                                'loan_status'\n",
    "                                ]]"
   ]
  },
  {
   "cell_type": "markdown",
   "metadata": {},
   "source": [
    "disini harusnya masukin kolom target"
   ]
  },
  {
   "cell_type": "code",
   "execution_count": 22,
   "metadata": {},
   "outputs": [
    {
     "data": {
      "text/plain": [
       "<Axes: >"
      ]
     },
     "execution_count": 22,
     "metadata": {},
     "output_type": "execute_result"
    },
    {
     "data": {
      "image/png": "[encoded data removed]",
      "text/plain": [
       "<Figure size 1000x1000 with 2 Axes>"
      ]
     },
     "metadata": {},
     "output_type": "display_data"
    }
   ],
   "source": [
    "# Menggunakan uji Pearson\n",
    "plt.figure(figsize=(10,10))\n",
    "sns.heatmap(numerical_columns.corr(method='pearson'),annot=True,fmt=\".2f\",linewidths=\"1\")"
   ]
  },
  {
   "cell_type": "markdown",
   "metadata": {},
   "source": [
    "Dari hasil uji Pearson pada kolom numerical diatas, dapat terlihat bahwa hanya kolom 'cibil_score' yang memiliki korelasi dengan kolom target 'loan_status'. Sehingga kolom tersebut dipilih sebagai feature. "
   ]
  },
  {
   "cell_type": "markdown",
   "metadata": {},
   "source": [
    "### C. Hasil Feature Selection"
   ]
  },
  {
   "cell_type": "markdown",
   "metadata": {},
   "source": [
    "Dari hasil nilai korelasi yang sebelumnya sudah dilakukan, didapatkan 2 feature, yaitu :\n",
    "\n",
    "- Kolom 'loan_term' dengan nilai korelasi 0.09\n",
    "\n",
    "- Kolom 'cibil_score' dengan nilai korelasi 0.77\n"
   ]
  },
  {
   "cell_type": "markdown",
   "metadata": {},
   "source": [
    "### Menyimpan Hasil Feature Selection"
   ]
  },
  {
   "cell_type": "code",
   "execution_count": 23,
   "metadata": {},
   "outputs": [
    {
     "data": {
      "text/html": [
       "<div>\n",
       "<style scoped>\n",
       "    .dataframe tbody tr th:only-of-type {\n",
       "        vertical-align: middle;\n",
       "    }\n",
       "\n",
       "    .dataframe tbody tr th {\n",
       "        vertical-align: top;\n",
       "    }\n",
       "\n",
       "    .dataframe thead th {\n",
       "        text-align: right;\n",
       "    }\n",
       "</style>\n",
       "<table border=\"1\" class=\"dataframe\">\n",
       "  <thead>\n",
       "    <tr style=\"text-align: right;\">\n",
       "      <th></th>\n",
       "      <th>loan_term</th>\n",
       "      <th>cibil_score</th>\n",
       "      <th>loan_status</th>\n",
       "    </tr>\n",
       "  </thead>\n",
       "  <tbody>\n",
       "    <tr>\n",
       "      <th>0</th>\n",
       "      <td>12</td>\n",
       "      <td>778</td>\n",
       "      <td>1</td>\n",
       "    </tr>\n",
       "    <tr>\n",
       "      <th>1</th>\n",
       "      <td>8</td>\n",
       "      <td>417</td>\n",
       "      <td>0</td>\n",
       "    </tr>\n",
       "    <tr>\n",
       "      <th>2</th>\n",
       "      <td>20</td>\n",
       "      <td>506</td>\n",
       "      <td>0</td>\n",
       "    </tr>\n",
       "    <tr>\n",
       "      <th>3</th>\n",
       "      <td>8</td>\n",
       "      <td>467</td>\n",
       "      <td>0</td>\n",
       "    </tr>\n",
       "    <tr>\n",
       "      <th>4</th>\n",
       "      <td>20</td>\n",
       "      <td>382</td>\n",
       "      <td>0</td>\n",
       "    </tr>\n",
       "    <tr>\n",
       "      <th>5</th>\n",
       "      <td>10</td>\n",
       "      <td>319</td>\n",
       "      <td>0</td>\n",
       "    </tr>\n",
       "    <tr>\n",
       "      <th>6</th>\n",
       "      <td>4</td>\n",
       "      <td>678</td>\n",
       "      <td>1</td>\n",
       "    </tr>\n",
       "    <tr>\n",
       "      <th>7</th>\n",
       "      <td>20</td>\n",
       "      <td>382</td>\n",
       "      <td>0</td>\n",
       "    </tr>\n",
       "    <tr>\n",
       "      <th>8</th>\n",
       "      <td>20</td>\n",
       "      <td>782</td>\n",
       "      <td>1</td>\n",
       "    </tr>\n",
       "    <tr>\n",
       "      <th>9</th>\n",
       "      <td>10</td>\n",
       "      <td>388</td>\n",
       "      <td>0</td>\n",
       "    </tr>\n",
       "  </tbody>\n",
       "</table>\n",
       "</div>"
      ],
      "text/plain": [
       "   loan_term  cibil_score  loan_status\n",
       "0         12          778            1\n",
       "1          8          417            0\n",
       "2         20          506            0\n",
       "3          8          467            0\n",
       "4         20          382            0\n",
       "5         10          319            0\n",
       "6          4          678            1\n",
       "7         20          382            0\n",
       "8         20          782            1\n",
       "9         10          388            0"
      ]
     },
     "execution_count": 23,
     "metadata": {},
     "output_type": "execute_result"
    }
   ],
   "source": [
    "loan_selection = loan_copy[['loan_term','cibil_score','loan_status']]\n",
    "\n",
    "# Menampilkan data\n",
    "loan_selection.head(10)"
   ]
  },
  {
   "cell_type": "markdown",
   "metadata": {},
   "source": [
    "## 4.3 Split Data"
   ]
  },
  {
   "cell_type": "markdown",
   "metadata": {},
   "source": [
    "Dilakukan untuk memisahkan data training dan data set"
   ]
  },
  {
   "cell_type": "code",
   "execution_count": 24,
   "metadata": {},
   "outputs": [
    {
     "name": "stdout",
     "output_type": "stream",
     "text": [
      "Proporsi value 0 : 0.3778402436167721\n",
      "Proporsi value 1 : 0.622159756383228\n"
     ]
    }
   ],
   "source": [
    "# Menampilkan data\n",
    "print(f\"Proporsi value 0 : {loan_selection['loan_status'].value_counts()[0] / loan.shape[0] * (100/100)}\")\n",
    "print(f\"Proporsi value 1 : {loan_selection['loan_status'].value_counts()[1] / loan.shape[0] * (100/100)}\")"
   ]
  },
  {
   "cell_type": "code",
   "execution_count": 25,
   "metadata": {},
   "outputs": [
    {
     "name": "stdout",
     "output_type": "stream",
     "text": [
      "Shape x_train : (2561, 2)\n",
      "Shape x_test : (1708, 2)\n"
     ]
    }
   ],
   "source": [
    "x = loan_selection.drop(['loan_status'],axis=1)\n",
    "y = loan_selection['loan_status']\n",
    "\n",
    "x_train, x_test, y_train, y_test = train_test_split(x,y,test_size=0.4, random_state=40,stratify=y)\n",
    "\n",
    "# Pengecekan komposisi data\n",
    "print(f\"Shape x_train : {x_train.shape}\")\n",
    "print(f\"Shape x_test : {x_test.shape}\")"
   ]
  },
  {
   "cell_type": "markdown",
   "metadata": {},
   "source": [
    "## 4.4 Multicollinear/VIF"
   ]
  },
  {
   "cell_type": "markdown",
   "metadata": {},
   "source": [
    "Dilakukan untuk mengidentifikasi variabel-variabel yang memiliki multicollinearity dan menghapus variabel yang redundan untuk meningkatkan stabilitas model. VIF mengukur sejauh mana varians dari suatu variabel dapat diprediksi oleh variabel lain dalam model.\n",
    "\n",
    "Pada uji VIF, akan dilakukan penghapusan feature yang memiliki nilai VIF lebih dari 5. Hal ini dilakukan karena feature yang memiliki nilai VIF di atas 5 memiliki tingkat multicollinearity yang cukup tinggi dibandingkan dengan feature lain yang nantinya akan berdampak pada kualitas model yang dibuat. "
   ]
  },
  {
   "cell_type": "code",
   "execution_count": 26,
   "metadata": {},
   "outputs": [],
   "source": [
    "# Uji VIF (Variance Inflation Factor)\n",
    "def calc_vif(x):\n",
    "\n",
    "    # Menghitung nilai VIF\n",
    "    vif = pd.DataFrame()\n",
    "    vif[\"variables\"] = x.columns\n",
    "    vif[\"VIF\"] = [variance_inflation_factor(x.values, i) for i in range(x.shape[1])]\n",
    "\n",
    "    return(vif)"
   ]
  },
  {
   "cell_type": "code",
   "execution_count": 27,
   "metadata": {},
   "outputs": [
    {
     "data": {
      "text/html": [
       "<div>\n",
       "<style scoped>\n",
       "    .dataframe tbody tr th:only-of-type {\n",
       "        vertical-align: middle;\n",
       "    }\n",
       "\n",
       "    .dataframe tbody tr th {\n",
       "        vertical-align: top;\n",
       "    }\n",
       "\n",
       "    .dataframe thead th {\n",
       "        text-align: right;\n",
       "    }\n",
       "</style>\n",
       "<table border=\"1\" class=\"dataframe\">\n",
       "  <thead>\n",
       "    <tr style=\"text-align: right;\">\n",
       "      <th></th>\n",
       "      <th>variables</th>\n",
       "      <th>VIF</th>\n",
       "    </tr>\n",
       "  </thead>\n",
       "  <tbody>\n",
       "    <tr>\n",
       "      <th>0</th>\n",
       "      <td>loan_term</td>\n",
       "      <td>3.646752</td>\n",
       "    </tr>\n",
       "    <tr>\n",
       "      <th>1</th>\n",
       "      <td>cibil_score</td>\n",
       "      <td>3.646752</td>\n",
       "    </tr>\n",
       "  </tbody>\n",
       "</table>\n",
       "</div>"
      ],
      "text/plain": [
       "     variables       VIF\n",
       "0    loan_term  3.646752\n",
       "1  cibil_score  3.646752"
      ]
     },
     "execution_count": 27,
     "metadata": {},
     "output_type": "execute_result"
    }
   ],
   "source": [
    "# Menampilkan data\n",
    "calc_vif(x_train)"
   ]
  },
  {
   "cell_type": "markdown",
   "metadata": {},
   "source": [
    "Setelah dilakukan pengecekan nilai VIF, dapat terlihat tidak ada feature yang memiliki nilai VIF lebih dari 5. Maka tidak perlu dilakukan penanganan apapun."
   ]
  },
  {
   "cell_type": "code",
   "execution_count": 28,
   "metadata": {},
   "outputs": [],
   "source": [
    "# Menyimpan hasil VIF pada x_train dan pada x_test\n",
    "feature = x_train.columns.tolist()\n",
    "x_test = x_test[feature]"
   ]
  },
  {
   "cell_type": "markdown",
   "metadata": {},
   "source": [
    "## 4.5 Skewness Check"
   ]
  },
  {
   "cell_type": "markdown",
   "metadata": {},
   "source": [
    "Dilakukan untuk pengecekan distribusi data skewness atau normal. Yang nantinya akan diperlukan untuk penanganan terhadap nilai-nilai ekstrim"
   ]
  },
  {
   "cell_type": "code",
   "execution_count": 29,
   "metadata": {},
   "outputs": [],
   "source": [
    "# Membuat variabel baru yang berisi feature selection numerical\n",
    "num_cols = x_train[['cibil_score']]"
   ]
  },
  {
   "cell_type": "markdown",
   "metadata": {},
   "source": [
    "Sesuai informasi sebelumnya, untuk kolom 'loan_term' adalah categorical yang telah dilakukan encoding. Jadi untuk pengecekan skewness dan handling outliers hanya pada kolom 'cibil_score'."
   ]
  },
  {
   "cell_type": "code",
   "execution_count": 30,
   "metadata": {},
   "outputs": [
    {
     "name": "stdout",
     "output_type": "stream",
     "text": [
      "Skew Column : []\n",
      "Normal Column : ['cibil_score']\n"
     ]
    }
   ],
   "source": [
    "# Membuat list kosong yang nantinya diisi kolom numerical\n",
    "skew = []\n",
    "normal = []\n",
    "\n",
    "# Mencari feature yang termasuk kedalam skewed atau normal\n",
    "for column in num_cols:\n",
    "    skewness = num_cols[column].skew()\n",
    "    if skewness < -0.5 or skewness > 0.5:\n",
    "        \n",
    "# Variabel skew\n",
    "        skew.append(column)\n",
    "    elif skewness >= -0.5 or skewness <= 0.5:\n",
    "\n",
    "# Variabel normal\n",
    "        normal.append(column)\n",
    "\n",
    "# Menampilkan data\n",
    "print(f\"Skew Column : {skew}\")\n",
    "print(f\"Normal Column : {normal}\")"
   ]
  },
  {
   "cell_type": "markdown",
   "metadata": {},
   "source": [
    "Dari hasil diatas dapat terlihat bahwa yang tidak ada kolom yang termasuk kedalam kolom yang terdistribusi secara tidak normal (skew)."
   ]
  },
  {
   "cell_type": "markdown",
   "metadata": {},
   "source": [
    "## 4.6 Handling Outliers"
   ]
  },
  {
   "cell_type": "markdown",
   "metadata": {},
   "source": [
    "Dilakukan untuk menangani nilai-nilai ekstrim pada data. Pada bagian ini dilakukan penanganan terhadap ouliers dengan menggunakan metode Gaussian karena sesuai informasi pada pengecekan nilai skewness, kolom yang akan dilakukan handling outliers (kolom 'cibil_score') diasumsikan terdistribusi secara normal."
   ]
  },
  {
   "cell_type": "code",
   "execution_count": 31,
   "metadata": {},
   "outputs": [],
   "source": [
    "# Melakukan winsorizing pada kolom numerical\n",
    "for i in num_cols:\n",
    "    wz_numeric = Winsorizer(capping_method='gaussian', tail='both', fold=3, variables=[i])\n",
    "    num_cols[i] = wz_numeric.fit_transform(num_cols[[i]])"
   ]
  },
  {
   "cell_type": "code",
   "execution_count": 32,
   "metadata": {},
   "outputs": [
    {
     "name": "stdout",
     "output_type": "stream",
     "text": [
      "cibil_score - After Capping\n"
     ]
    },
    {
     "data": {
      "image/png": "[encoded data removed]",
      "text/plain": [
       "<Figure size 1600x400 with 2 Axes>"
      ]
     },
     "metadata": {},
     "output_type": "display_data"
    }
   ],
   "source": [
    "# Fungsi untuk membuat plot histogram dan boxplot sebelum dan sesudah capping\n",
    "def diagnostic_plots(df, variable):\n",
    "    # Define figure size\n",
    "    plt.figure(figsize=(16, 4))\n",
    "\n",
    "    # Histogram\n",
    "    plt.subplot(1, 2, 1)\n",
    "    sns.histplot(df[variable], bins=30)\n",
    "    plt.title('Histogram')\n",
    "\n",
    "    # Boxplot\n",
    "    plt.subplot(1, 2, 2)\n",
    "    sns.boxplot(y=df[variable])\n",
    "    plt.title('Boxplot')\n",
    "\n",
    "    plt.show()\n",
    "\n",
    "# Menampilkan plot setelah dilakukan capping untuk fitur\n",
    "for i in num_cols:\n",
    "    print(f'{i} - After Capping')\n",
    "    diagnostic_plots(num_cols, i)"
   ]
  },
  {
   "cell_type": "markdown",
   "metadata": {},
   "source": [
    "Dari visualisasi diatas, dapat dilihat bahwa tidak terdapat outliers pada data."
   ]
  },
  {
   "cell_type": "code",
   "execution_count": 33,
   "metadata": {},
   "outputs": [],
   "source": [
    "# Menyimpan data\n",
    "num_cols = wz_numeric.fit_transform(x_train)"
   ]
  },
  {
   "cell_type": "markdown",
   "metadata": {},
   "source": [
    "## 4.7 Balancing Data"
   ]
  },
  {
   "cell_type": "markdown",
   "metadata": {},
   "source": [
    "Digunakan untuk menyeimbangkan jumlah data agar hasil prediksi lebih akurat dan tidak terpengaruh oleh ketidakseimbangan jumlah data "
   ]
  },
  {
   "cell_type": "code",
   "execution_count": 34,
   "metadata": {},
   "outputs": [
    {
     "data": {
      "text/plain": [
       "loan_status\n",
       "1    62.202265\n",
       "0    37.797735\n",
       "Name: proportion, dtype: float64"
      ]
     },
     "execution_count": 34,
     "metadata": {},
     "output_type": "execute_result"
    }
   ],
   "source": [
    "# Menampilkan data sebelum dilakukan balancing\n",
    "y_train.value_counts(normalize=True) * 100"
   ]
  },
  {
   "cell_type": "markdown",
   "metadata": {},
   "source": [
    "Sebelum dilakukan balancing data, terlihat jumlah data pada target 'loan_status' tidak seimbang. Maka perlu dilakukan balancing dengan oversampling menggunakan SMOTE"
   ]
  },
  {
   "cell_type": "code",
   "execution_count": 35,
   "metadata": {},
   "outputs": [
    {
     "name": "stdout",
     "output_type": "stream",
     "text": [
      "Jumlah nilai pada setiap kelas setelah oversampling pada data training:\n",
      "loan_status\n",
      "1    1593\n",
      "0    1593\n",
      "Name: count, dtype: int64\n"
     ]
    }
   ],
   "source": [
    "# Membuat objek SMOTE\n",
    "smote = SMOTE()\n",
    "\n",
    "# Oversampling pada data training\n",
    "x_train, y_train = smote.fit_resample(x_train, y_train)\n",
    "\n",
    "# Oversampling pada data test (opsional)\n",
    "x_test, y_test = smote.fit_resample(x_test, y_test)\n",
    "\n",
    "# Menampilkan jumlah nilai pada setiap kelas setelah oversampling\n",
    "print(\"Jumlah nilai pada setiap kelas setelah oversampling pada data training:\")\n",
    "print(y_train.value_counts())\n"
   ]
  },
  {
   "cell_type": "markdown",
   "metadata": {},
   "source": [
    "Setelah dilakukan balancing, terlihat jumlah data sudah seimbang. Balancing oversampling dilakukan dengan cara penambahan pada kelas minoritas agar jumlah datanya sama dengan jumlah data pada kelas mayoritas. \n",
    "\n",
    "Selain itu, hasil model menggunakan balancing data oversampling lebih baik dibandingkan dengan undersampling juga untuk jumlah data hanya sekitar 900 setiap kelas jika menggunakan undersampling. Jadi dipilih metode oversampling."
   ]
  },
  {
   "cell_type": "markdown",
   "metadata": {},
   "source": [
    "## 4.8 Scalling & Encoding"
   ]
  },
  {
   "cell_type": "markdown",
   "metadata": {},
   "source": [
    "Scalling dilakukan untuk memastikan bahwa semua feature pada data memiliki rentang nilai yang sebanding, metode yang digunakan adalah metode Standard Scaler. StandardScaller digunakan karena diasumsikan datanya terdistribusi secara normal.\n",
    "\n",
    "Kemudian Encoding dilakukan untuk mengubah data categorical menjadi numerical. Namun pada bagian ini tidak perlu dilakukan encoding karena pada data yang diterima kolom 'loan_term' sudah di encoding."
   ]
  },
  {
   "cell_type": "code",
   "execution_count": 36,
   "metadata": {},
   "outputs": [],
   "source": [
    "# Scaling Method menggunakan StandardScaler\n",
    "scaler = StandardScaler()\n",
    "\n",
    "# Define \n",
    "\n",
    "# Define kolom numerical\n",
    "scale_num_cols = x_train.select_dtypes(include=np.number).columns.tolist()\n",
    "\n",
    "# Create ColumnTransfomer\n",
    "preprocessing = ColumnTransformer(\n",
    "    transformers=[\n",
    "        ('scale', scaler, scale_num_cols), # scale kolom numerical\n",
    "        ('passthrough', 'passthrough', ['loan_term'])\n",
    "    ]\n",
    ")"
   ]
  },
  {
   "cell_type": "markdown",
   "metadata": {},
   "source": [
    "Data sudah berhasil dilakukan scalling. Tidak dilakukan encode karena tidak ada data categorical.\n"
   ]
  },
  {
   "cell_type": "markdown",
   "metadata": {},
   "source": [
    "# 5. Model Definition"
   ]
  },
  {
   "cell_type": "markdown",
   "metadata": {},
   "source": [
    "Dilakukan untuk mendefinisikan model yang digunakan"
   ]
  },
  {
   "cell_type": "markdown",
   "metadata": {},
   "source": [
    "## 5.1 K-Nearest Neighbors (KNN) "
   ]
  },
  {
   "cell_type": "code",
   "execution_count": 37,
   "metadata": {},
   "outputs": [],
   "source": [
    "# Membuat pipeline KNN\n",
    "knn_pipe = Pipeline([('preprocessor', preprocessing), ('knn', KNeighborsClassifier())])"
   ]
  },
  {
   "cell_type": "markdown",
   "metadata": {},
   "source": [
    "## 5.2 Support Vector Machine (SVM) "
   ]
  },
  {
   "cell_type": "code",
   "execution_count": 38,
   "metadata": {},
   "outputs": [],
   "source": [
    "# Membuat pipeline SVM\n",
    "svm_pipe = Pipeline([('preprocessor', preprocessing), ('svm', SVC(random_state=42))])"
   ]
  },
  {
   "cell_type": "markdown",
   "metadata": {},
   "source": [
    "## 5.3 Random Forest"
   ]
  },
  {
   "cell_type": "code",
   "execution_count": 39,
   "metadata": {},
   "outputs": [],
   "source": [
    "# Membuat pipeline Random Forest\n",
    "rf_pipe = Pipeline([('preprocessor', preprocessing), ('rf', RandomForestClassifier(random_state=42))])"
   ]
  },
  {
   "cell_type": "markdown",
   "metadata": {},
   "source": [
    "## 5.4 Decision Tree"
   ]
  },
  {
   "cell_type": "code",
   "execution_count": 40,
   "metadata": {},
   "outputs": [],
   "source": [
    "# Membuat pipeline Decision Tree\n",
    "dt_pipe = Pipeline([('preprocessor', preprocessing), ('dt', DecisionTreeClassifier(random_state=42))])"
   ]
  },
  {
   "cell_type": "markdown",
   "metadata": {},
   "source": [
    "## 5.5 Gradient Boosting"
   ]
  },
  {
   "cell_type": "code",
   "execution_count": 41,
   "metadata": {},
   "outputs": [],
   "source": [
    "# Membuat pipeline GB (Gradient Boosting)\n",
    "gb_pipe = Pipeline([('preprocessor', preprocessing), ('gb', GradientBoostingClassifier())])"
   ]
  },
  {
   "cell_type": "markdown",
   "metadata": {},
   "source": [
    "# 6. Model Training & Evaluation"
   ]
  },
  {
   "cell_type": "markdown",
   "metadata": {},
   "source": [
    "Dilakukan untuk mengajari/men-training dan mengevaluasi model yang digunakan dan menentukan model yang terbaik."
   ]
  },
  {
   "cell_type": "markdown",
   "metadata": {},
   "source": [
    "## 6.1 Cross Validation Base Model"
   ]
  },
  {
   "cell_type": "markdown",
   "metadata": {},
   "source": [
    "Pemilihan matrix 'precision' adalah untuk mengevaluasi sejauh mana model dapat memberikan prediksi yang akurat terkait dengan kelas positif (misalnya, kasus \"Approved\" pada dataset pinjaman). Matrix 'precision' akan memberikan perbandingan antara jumlah kasus positif yang benar diprediksi dibandingkan dengan total kasus yang diprediksi sebagai positif oleh model, sehingga memberikan indikasi seberapa baik model dapat mengidentifikasi kasus yang benar-benar relevan. Dalam konteks pinjaman, 'precision' dapat membantu mengukur seberapa akurat model dapat memprediksi persetujuan pinjaman."
   ]
  },
  {
   "cell_type": "code",
   "execution_count": 42,
   "metadata": {},
   "outputs": [
    {
     "name": "stdout",
     "output_type": "stream",
     "text": [
      "knn_model\n",
      "precision - All - Cross Validation  :  [0.94392523 0.965625   0.96214511 0.97727273 0.9869281 ]\n",
      "precision - Mean - Cross Validation :  0.967179235180569\n",
      "precision - Std - Cross Validation  :  0.014562987822580906\n",
      "precision - Range of Test-Set       :  0.9526162473579881 - 0.98174222300315\n",
      "--------------------------------------------------\n",
      "svm_model\n",
      "precision - All - Cross Validation  :  [0.93569132 0.95833333 0.96141479 0.96527778 0.95016611]\n",
      "precision - Mean - Cross Validation :  0.9541766666785361\n",
      "precision - Std - Cross Validation  :  0.010494718993471876\n",
      "precision - Range of Test-Set       :  0.9436819476850642 - 0.9646713856720079\n",
      "--------------------------------------------------\n",
      "rdf_model\n",
      "precision - All - Cross Validation  :  [0.93902439 0.96573209 0.96835443 0.97411003 0.97749196]\n",
      "precision - Mean - Cross Validation :  0.9649425803256626\n",
      "precision - Std - Cross Validation  :  0.013605482436289187\n",
      "precision - Range of Test-Set       :  0.9513370978893734 - 0.9785480627619518\n",
      "--------------------------------------------------\n",
      "tree_model\n",
      "precision - All - Cross Validation  :  [0.93902439 0.96573209 0.96835443 0.97411003 0.97749196]\n",
      "precision - Mean - Cross Validation :  0.9649425803256626\n",
      "precision - Std - Cross Validation  :  0.013605482436289187\n",
      "precision - Range of Test-Set       :  0.9513370978893734 - 0.9785480627619518\n",
      "--------------------------------------------------\n",
      "gb_model\n",
      "precision - All - Cross Validation  :  [0.94117647 0.96583851 0.97734628 0.98376623 0.97734628]\n",
      "precision - Mean - Cross Validation :  0.9690947540611086\n",
      "precision - Std - Cross Validation  :  0.015109343491633195\n",
      "precision - Range of Test-Set       :  0.9539854105694754 - 0.9842040975527417\n",
      "--------------------------------------------------\n",
      "best model: gb_model\n",
      "cross-val mean: 0.9690947540611086\n"
     ]
    }
   ],
   "source": [
    "# Set StratifiedKFold\n",
    "skfold = StratifiedKFold(n_splits=5)\n",
    "\n",
    "# Checking cross-validation score with precision as the scoring metric\n",
    "cv_knn_model = cross_val_score(knn_pipe, x_train, y_train, cv=skfold, scoring=\"precision\")\n",
    "cv_svm_model = cross_val_score(svm_pipe, x_train, y_train, cv=skfold, scoring=\"precision\")\n",
    "cv_rdf_model = cross_val_score(rf_pipe, x_train, y_train, cv=skfold, scoring=\"precision\")\n",
    "cv_tree_model = cross_val_score(rf_pipe, x_train, y_train, cv=skfold, scoring=\"precision\")\n",
    "cv_gb_model = cross_val_score(gb_pipe, x_train, y_train, cv=skfold, scoring=\"precision\")\n",
    "\n",
    "name_model = []\n",
    "cv_scores = 0\n",
    "\n",
    "for cv, name in zip([cv_knn_model, cv_svm_model, cv_tree_model, cv_rdf_model, cv_gb_model],\n",
    "                    ['knn_model', 'svm_model', 'rdf_model', 'tree_model', 'gb_model']):\n",
    "\n",
    "    print(name)\n",
    "    print('precision - All - Cross Validation  : ', cv)\n",
    "    print('precision - Mean - Cross Validation : ', cv.mean())\n",
    "    print('precision - Std - Cross Validation  : ', cv.std())\n",
    "    print('precision - Range of Test-Set       : ', (cv.mean() - cv.std()), '-', (cv.mean() + cv.std()))\n",
    "    print('-' * 50)\n",
    "\n",
    "    if cv.mean() > cv_scores:\n",
    "        cv_scores = cv.mean()\n",
    "        name_model = name\n",
    "\n",
    "    else:\n",
    "        pass\n",
    "\n",
    "print('best model:', name_model)\n",
    "print('cross-val mean:', cv_scores)\n"
   ]
  },
  {
   "cell_type": "markdown",
   "metadata": {},
   "source": [
    "Dari hasil cross validation menggunakan matrix precision diatas, didapatkan hasil bahwa model terbaik adalah GB Model (Gradient Boosting Model) dengan hasil sebesar 97%. Selanjutnya dilakukan evaluasi terhadap model GB (Gradient Boosting) dengan hyperparameter."
   ]
  },
  {
   "cell_type": "markdown",
   "metadata": {},
   "source": [
    "## 6.2 Best Model dengan Hyperparameter"
   ]
  },
  {
   "cell_type": "code",
   "execution_count": 43,
   "metadata": {},
   "outputs": [
    {
     "name": "stdout",
     "output_type": "stream",
     "text": [
      "Fitting 5 folds for each of 27 candidates, totalling 135 fits\n"
     ]
    },
    {
     "name": "stdout",
     "output_type": "stream",
     "text": [
      "[CV 1/5] END gb__learning_rate=0.01, gb__max_depth=3, gb__n_estimators=10;, score=0.977 total time=   0.0s\n",
      "[CV 1/5] END gb__learning_rate=0.01, gb__max_depth=3, gb__n_estimators=5;, score=0.977 total time=   0.0s\n",
      "[CV 4/5] END gb__learning_rate=0.01, gb__max_depth=3, gb__n_estimators=5;, score=0.974 total time=   0.0s\n",
      "[CV 3/5] END gb__learning_rate=0.01, gb__max_depth=3, gb__n_estimators=5;, score=0.993 total time=   0.0s\n",
      "[CV 5/5] END gb__learning_rate=0.01, gb__max_depth=3, gb__n_estimators=10;, score=0.983 total time=   0.0s\n",
      "[CV 3/5] END gb__learning_rate=0.01, gb__max_depth=3, gb__n_estimators=10;, score=0.993 total time=   0.0s\n",
      "[CV 4/5] END gb__learning_rate=0.01, gb__max_depth=3, gb__n_estimators=10;, score=0.990 total time=   0.0s\n",
      "[CV 5/5] END gb__learning_rate=0.01, gb__max_depth=3, gb__n_estimators=5;, score=0.983 total time=   0.0s\n",
      "[CV 2/5] END gb__learning_rate=0.01, gb__max_depth=3, gb__n_estimators=10;, score=0.993 total time=   0.0s\n",
      "[CV 2/5] END gb__learning_rate=0.01, gb__max_depth=3, gb__n_estimators=10;, score=0.993 total time=   0.0s\n",
      "[CV 1/5] END gb__learning_rate=0.01, gb__max_depth=3, gb__n_estimators=10;, score=0.977 total time=   0.0s\n",
      "[CV 3/5] END gb__learning_rate=0.01, gb__max_depth=3, gb__n_estimators=10;, score=0.993 total time=   0.0s\n",
      "[CV 2/5] END gb__learning_rate=0.01, gb__max_depth=3, gb__n_estimators=5;, score=0.993 total time=   0.0s\n",
      "[CV 1/5] END gb__learning_rate=0.01, gb__max_depth=4, gb__n_estimators=10;, score=0.977 total time=   0.0s\n",
      "[CV 5/5] END gb__learning_rate=0.01, gb__max_depth=3, gb__n_estimators=10;, score=0.983 total time=   0.0s\n",
      "[CV 4/5] END gb__learning_rate=0.01, gb__max_depth=3, gb__n_estimators=10;, score=0.990 total time=   0.0s\n",
      "[CV 1/5] END gb__learning_rate=0.01, gb__max_depth=4, gb__n_estimators=5;, score=0.977 total time=   0.0s\n",
      "[CV 3/5] END gb__learning_rate=0.01, gb__max_depth=4, gb__n_estimators=10;, score=0.990 total time=   0.0s\n",
      "[CV 2/5] END gb__learning_rate=0.01, gb__max_depth=4, gb__n_estimators=10;, score=0.993 total time=   0.0s\n",
      "[CV 4/5] END gb__learning_rate=0.01, gb__max_depth=4, gb__n_estimators=10;, score=0.987 total time=   0.0s\n",
      "[CV 5/5] END gb__learning_rate=0.01, gb__max_depth=4, gb__n_estimators=10;, score=0.983 total time=   0.0s\n",
      "[CV 3/5] END gb__learning_rate=0.01, gb__max_depth=4, gb__n_estimators=5;, score=0.993 total time=   0.0s\n",
      "[CV 4/5] END gb__learning_rate=0.01, gb__max_depth=4, gb__n_estimators=5;, score=0.990 total time=   0.0s\n",
      "[CV 2/5] END gb__learning_rate=0.01, gb__max_depth=4, gb__n_estimators=5;, score=0.993 total time=   0.0s\n",
      "[CV 5/5] END gb__learning_rate=0.01, gb__max_depth=4, gb__n_estimators=5;, score=0.983 total time=   0.0s\n",
      "[CV 1/5] END gb__learning_rate=0.01, gb__max_depth=4, gb__n_estimators=10;, score=0.977 total time=   0.0s\n",
      "[CV 4/5] END gb__learning_rate=0.01, gb__max_depth=4, gb__n_estimators=10;, score=0.987 total time=   0.0s\n",
      "[CV 3/5] END gb__learning_rate=0.01, gb__max_depth=4, gb__n_estimators=10;, score=0.990 total time=   0.0s\n",
      "[CV 5/5] END gb__learning_rate=0.01, gb__max_depth=4, gb__n_estimators=10;, score=0.983 total time=   0.0s\n",
      "[CV 2/5] END gb__learning_rate=0.01, gb__max_depth=4, gb__n_estimators=10;, score=0.993 total time=   0.0s\n",
      "[CV 1/5] END gb__learning_rate=0.01, gb__max_depth=5, gb__n_estimators=10;, score=0.953 total time=   0.0s\n",
      "[CV 3/5] END gb__learning_rate=0.01, gb__max_depth=5, gb__n_estimators=10;, score=0.966 total time=   0.0s\n",
      "[CV 1/5] END gb__learning_rate=0.01, gb__max_depth=5, gb__n_estimators=5;, score=0.953 total time=   0.0s\n",
      "[CV 2/5] END gb__learning_rate=0.01, gb__max_depth=5, gb__n_estimators=5;, score=0.981 total time=   0.0s\n",
      "[CV 3/5] END gb__learning_rate=0.01, gb__max_depth=5, gb__n_estimators=5;, score=0.966 total time=   0.0s\n",
      "[CV 4/5] END gb__learning_rate=0.01, gb__max_depth=5, gb__n_estimators=10;, score=0.978 total time=   0.0s\n",
      "[CV 4/5] END gb__learning_rate=0.01, gb__max_depth=5, gb__n_estimators=5;, score=0.978 total time=   0.0s\n",
      "[CV 2/5] END gb__learning_rate=0.01, gb__max_depth=5, gb__n_estimators=10;, score=0.981 total time=   0.0s\n",
      "[CV 5/5] END gb__learning_rate=0.01, gb__max_depth=5, gb__n_estimators=10;, score=0.974 total time=   0.0s\n",
      "[CV 5/5] END gb__learning_rate=0.01, gb__max_depth=5, gb__n_estimators=5;, score=0.974 total time=   0.0s\n",
      "[CV 1/5] END gb__learning_rate=0.01, gb__max_depth=5, gb__n_estimators=10;, score=0.953 total time=   0.0s\n",
      "[CV 2/5] END gb__learning_rate=0.01, gb__max_depth=5, gb__n_estimators=10;, score=0.981 total time=   0.0s\n",
      "[CV 2/5] END gb__learning_rate=0.1, gb__max_depth=3, gb__n_estimators=10;, score=0.990 total time=   0.0s\n",
      "[CV 3/5] END gb__learning_rate=0.01, gb__max_depth=5, gb__n_estimators=10;, score=0.966 total time=   0.0s\n",
      "[CV 1/5] END gb__learning_rate=0.1, gb__max_depth=3, gb__n_estimators=10;, score=0.977 total time=   0.0s\n",
      "[CV 4/5] END gb__learning_rate=0.01, gb__max_depth=5, gb__n_estimators=10;, score=0.978 total time=   0.0s\n",
      "[CV 3/5] END gb__learning_rate=0.1, gb__max_depth=3, gb__n_estimators=10;, score=0.993 total time=   0.0s\n",
      "[CV 1/5] END gb__learning_rate=0.1, gb__max_depth=3, gb__n_estimators=5;, score=0.977 total time=   0.0s\n",
      "[CV 3/5] END gb__learning_rate=0.1, gb__max_depth=3, gb__n_estimators=5;, score=0.993 total time=   0.0s\n",
      "[CV 5/5] END gb__learning_rate=0.1, gb__max_depth=3, gb__n_estimators=5;, score=0.983 total time=   0.0s\n",
      "[CV 4/5] END gb__learning_rate=0.1, gb__max_depth=3, gb__n_estimators=10;, score=0.990 total time=   0.0s\n",
      "[CV 2/5] END gb__learning_rate=0.1, gb__max_depth=3, gb__n_estimators=5;, score=0.990 total time=   0.0s\n",
      "[CV 2/5] END gb__learning_rate=0.1, gb__max_depth=3, gb__n_estimators=10;, score=0.990 total time=   0.0s\n",
      "[CV 4/5] END gb__learning_rate=0.1, gb__max_depth=3, gb__n_estimators=5;, score=0.990 total time=   0.0s\n",
      "[CV 5/5] END gb__learning_rate=0.1, gb__max_depth=3, gb__n_estimators=10;, score=0.983 total time=   0.0s[CV 4/5] END gb__learning_rate=0.1, gb__max_depth=3, gb__n_estimators=10;, score=0.990 total time=   0.0s\n",
      "\n",
      "[CV 1/5] END gb__learning_rate=0.1, gb__max_depth=3, gb__n_estimators=10;, score=0.977 total time=   0.0s\n",
      "[CV 5/5] END gb__learning_rate=0.01, gb__max_depth=5, gb__n_estimators=10;, score=0.974 total time=   0.1s\n",
      "[CV 1/5] END gb__learning_rate=0.1, gb__max_depth=4, gb__n_estimators=10;, score=0.959 total time=   0.0s\n",
      "[CV 3/5] END gb__learning_rate=0.1, gb__max_depth=3, gb__n_estimators=10;, score=0.993 total time=   0.0s\n",
      "[CV 3/5] END gb__learning_rate=0.1, gb__max_depth=4, gb__n_estimators=10;, score=0.990 total time=   0.0s\n",
      "[CV 5/5] END gb__learning_rate=0.1, gb__max_depth=3, gb__n_estimators=10;, score=0.983 total time=   0.0s\n",
      "[CV 2/5] END gb__learning_rate=0.1, gb__max_depth=4, gb__n_estimators=5;, score=0.987 total time=   0.0s\n",
      "[CV 5/5] END gb__learning_rate=0.1, gb__max_depth=4, gb__n_estimators=10;, score=0.984 total time=   0.0s\n",
      "[CV 3/5] END gb__learning_rate=0.1, gb__max_depth=4, gb__n_estimators=5;, score=0.990 total time=   0.0s\n",
      "[CV 2/5] END gb__learning_rate=0.1, gb__max_depth=4, gb__n_estimators=10;, score=0.984 total time=   0.0s\n",
      "[CV 5/5] END gb__learning_rate=0.1, gb__max_depth=4, gb__n_estimators=10;, score=0.984 total time=   0.0s\n",
      "[CV 1/5] END gb__learning_rate=0.1, gb__max_depth=4, gb__n_estimators=10;, score=0.959 total time=   0.0s\n",
      "[CV 4/5] END gb__learning_rate=0.1, gb__max_depth=4, gb__n_estimators=10;, score=0.990 total time=   0.0s\n",
      "[CV 1/5] END gb__learning_rate=0.1, gb__max_depth=4, gb__n_estimators=5;, score=0.977 total time=   0.0s\n",
      "[CV 4/5] END gb__learning_rate=0.1, gb__max_depth=4, gb__n_estimators=5;, score=0.990 total time=   0.0s\n",
      "[CV 3/5] END gb__learning_rate=0.1, gb__max_depth=4, gb__n_estimators=10;, score=0.990 total time=   0.0s\n",
      "[CV 1/5] END gb__learning_rate=0.1, gb__max_depth=5, gb__n_estimators=10;, score=0.956 total time=   0.0s\n",
      "[CV 2/5] END gb__learning_rate=0.1, gb__max_depth=4, gb__n_estimators=10;, score=0.984 total time=   0.0s\n",
      "[CV 1/5] END gb__learning_rate=0.1, gb__max_depth=5, gb__n_estimators=5;, score=0.950 total time=   0.0s\n",
      "[CV 5/5] END gb__learning_rate=0.1, gb__max_depth=4, gb__n_estimators=5;, score=0.983 total time=   0.0s\n",
      "[CV 4/5] END gb__learning_rate=0.1, gb__max_depth=4, gb__n_estimators=10;, score=0.990 total time=   0.0s\n",
      "[CV 5/5] END gb__learning_rate=0.1, gb__max_depth=5, gb__n_estimators=5;, score=0.971 total time=   0.0s\n",
      "[CV 2/5] END gb__learning_rate=0.1, gb__max_depth=5, gb__n_estimators=10;, score=0.981 total time=   0.0s\n",
      "[CV 4/5] END gb__learning_rate=0.1, gb__max_depth=5, gb__n_estimators=10;, score=0.987 total time=   0.0s\n",
      "[CV 2/5] END gb__learning_rate=0.1, gb__max_depth=5, gb__n_estimators=5;, score=0.975 total time=   0.0s\n",
      "[CV 3/5] END gb__learning_rate=0.2, gb__max_depth=3, gb__n_estimators=10;, score=0.993 total time=   0.0s\n",
      "[CV 3/5] END gb__learning_rate=0.1, gb__max_depth=5, gb__n_estimators=10;, score=0.975 total time=   0.0s\n",
      "[CV 1/5] END gb__learning_rate=0.2, gb__max_depth=3, gb__n_estimators=10;, score=0.977 total time=   0.0s\n",
      "[CV 5/5] END gb__learning_rate=0.1, gb__max_depth=5, gb__n_estimators=10;, score=0.971 total time=   0.0s\n",
      "[CV 1/5] END gb__learning_rate=0.1, gb__max_depth=5, gb__n_estimators=10;, score=0.956 total time=   0.0s\n",
      "[CV 4/5] END gb__learning_rate=0.1, gb__max_depth=5, gb__n_estimators=10;, score=0.987 total time=   0.0s\n",
      "[CV 3/5] END gb__learning_rate=0.1, gb__max_depth=5, gb__n_estimators=5;, score=0.966 total time=   0.0s\n",
      "[CV 2/5] END gb__learning_rate=0.2, gb__max_depth=3, gb__n_estimators=5;, score=0.990 total time=   0.0s\n",
      "[CV 4/5] END gb__learning_rate=0.2, gb__max_depth=3, gb__n_estimators=10;, score=0.990 total time=   0.0s\n",
      "[CV 5/5] END gb__learning_rate=0.2, gb__max_depth=3, gb__n_estimators=10;, score=0.983 total time=   0.0s\n",
      "[CV 4/5] END gb__learning_rate=0.2, gb__max_depth=4, gb__n_estimators=10;, score=0.987 total time=   0.0s\n",
      "[CV 3/5] END gb__learning_rate=0.2, gb__max_depth=3, gb__n_estimators=5;, score=0.993 total time=   0.0s\n",
      "[CV 2/5] END gb__learning_rate=0.2, gb__max_depth=3, gb__n_estimators=10;, score=0.990 total time=   0.0s\n",
      "[CV 4/5] END gb__learning_rate=0.1, gb__max_depth=5, gb__n_estimators=5;, score=0.977 total time=   0.0s\n",
      "[CV 2/5] END gb__learning_rate=0.1, gb__max_depth=5, gb__n_estimators=10;, score=0.981 total time=   0.0s\n",
      "[CV 5/5] END gb__learning_rate=0.1, gb__max_depth=5, gb__n_estimators=10;, score=0.971 total time=   0.0s\n",
      "[CV 5/5] END gb__learning_rate=0.2, gb__max_depth=3, gb__n_estimators=10;, score=0.983 total time=   0.0s\n",
      "[CV 1/5] END gb__learning_rate=0.2, gb__max_depth=4, gb__n_estimators=10;, score=0.965 total time=   0.0s\n",
      "[CV 3/5] END gb__learning_rate=0.1, gb__max_depth=5, gb__n_estimators=10;, score=0.975 total time=   0.0s\n",
      "[CV 3/5] END gb__learning_rate=0.2, gb__max_depth=3, gb__n_estimators=10;, score=0.993 total time=   0.0s\n",
      "[CV 4/5] END gb__learning_rate=0.2, gb__max_depth=3, gb__n_estimators=5;, score=0.990 total time=   0.0s\n",
      "[CV 3/5] END gb__learning_rate=0.2, gb__max_depth=4, gb__n_estimators=5;, score=0.981 total time=   0.0s\n",
      "[CV 1/5] END gb__learning_rate=0.2, gb__max_depth=3, gb__n_estimators=10;, score=0.977 total time=   0.0s\n",
      "[CV 5/5] END gb__learning_rate=0.2, gb__max_depth=4, gb__n_estimators=10;, score=0.977 total time=   0.0s\n",
      "[CV 1/5] END gb__learning_rate=0.2, gb__max_depth=3, gb__n_estimators=5;, score=0.977 total time=   0.0s\n",
      "[CV 5/5] END gb__learning_rate=0.2, gb__max_depth=3, gb__n_estimators=5;, score=0.983 total time=   0.0s\n",
      "[CV 1/5] END gb__learning_rate=0.2, gb__max_depth=4, gb__n_estimators=5;, score=0.977 total time=   0.0s\n",
      "[CV 4/5] END gb__learning_rate=0.2, gb__max_depth=3, gb__n_estimators=10;, score=0.990 total time=   0.0s\n",
      "[CV 4/5] END gb__learning_rate=0.2, gb__max_depth=4, gb__n_estimators=5;, score=0.987 total time=   0.0s\n",
      "[CV 2/5] END gb__learning_rate=0.2, gb__max_depth=4, gb__n_estimators=10;, score=0.977 total time=   0.0s\n",
      "[CV 5/5] END gb__learning_rate=0.2, gb__max_depth=4, gb__n_estimators=5;, score=0.977 total time=   0.0s\n",
      "[CV 2/5] END gb__learning_rate=0.2, gb__max_depth=3, gb__n_estimators=10;, score=0.990 total time=   0.0s\n",
      "[CV 2/5] END gb__learning_rate=0.2, gb__max_depth=4, gb__n_estimators=5;, score=0.984 total time=   0.0s\n",
      "[CV 1/5] END gb__learning_rate=0.2, gb__max_depth=4, gb__n_estimators=10;, score=0.965 total time=   0.0s\n",
      "[CV 2/5] END gb__learning_rate=0.2, gb__max_depth=4, gb__n_estimators=10;, score=0.977 total time=   0.0s\n",
      "[CV 3/5] END gb__learning_rate=0.2, gb__max_depth=4, gb__n_estimators=10;, score=0.981 total time=   0.0s\n",
      "[CV 5/5] END gb__learning_rate=0.2, gb__max_depth=4, gb__n_estimators=10;, score=0.977 total time=   0.0s\n",
      "[CV 4/5] END gb__learning_rate=0.2, gb__max_depth=4, gb__n_estimators=10;, score=0.987 total time=   0.0s\n",
      "[CV 3/5] END gb__learning_rate=0.2, gb__max_depth=4, gb__n_estimators=10;, score=0.981 total time=   0.0s\n",
      "[CV 3/5] END gb__learning_rate=0.2, gb__max_depth=5, gb__n_estimators=10;, score=0.978 total time=   0.0s\n",
      "[CV 4/5] END gb__learning_rate=0.2, gb__max_depth=5, gb__n_estimators=10;, score=0.987 total time=   0.0s\n",
      "[CV 2/5] END gb__learning_rate=0.2, gb__max_depth=5, gb__n_estimators=10;, score=0.978 total time=   0.0s\n",
      "[CV 1/5] END gb__learning_rate=0.2, gb__max_depth=5, gb__n_estimators=5;, score=0.953 total time=   0.0s\n",
      "[CV 2/5] END gb__learning_rate=0.2, gb__max_depth=5, gb__n_estimators=5;, score=0.978 total time=   0.0s\n",
      "[CV 1/5] END gb__learning_rate=0.2, gb__max_depth=5, gb__n_estimators=10;, score=0.947 total time=   0.0s\n",
      "[CV 5/5] END gb__learning_rate=0.2, gb__max_depth=5, gb__n_estimators=10;, score=0.971 total time=   0.0s\n",
      "[CV 3/5] END gb__learning_rate=0.2, gb__max_depth=5, gb__n_estimators=5;, score=0.981 total time=   0.0s\n",
      "[CV 5/5] END gb__learning_rate=0.2, gb__max_depth=5, gb__n_estimators=5;, score=0.971 total time=   0.0s\n",
      "[CV 4/5] END gb__learning_rate=0.2, gb__max_depth=5, gb__n_estimators=5;, score=0.984 total time=   0.0s\n",
      "[CV 1/5] END gb__learning_rate=0.2, gb__max_depth=5, gb__n_estimators=10;, score=0.947 total time=   0.0s\n",
      "[CV 3/5] END gb__learning_rate=0.2, gb__max_depth=5, gb__n_estimators=10;, score=0.978 total time=   0.0s\n",
      "[CV 2/5] END gb__learning_rate=0.2, gb__max_depth=5, gb__n_estimators=10;, score=0.978 total time=   0.0s\n",
      "[CV 4/5] END gb__learning_rate=0.2, gb__max_depth=5, gb__n_estimators=10;, score=0.987 total time=   0.0s\n",
      "[CV 5/5] END gb__learning_rate=0.2, gb__max_depth=5, gb__n_estimators=10;, score=0.971 total time=   0.0s\n",
      "Best parameters for GB: {'gb__learning_rate': 0.01, 'gb__max_depth': 3, 'gb__n_estimators': 10}\n",
      "Best precision score for GB: 0.9874679863303907\n"
     ]
    }
   ],
   "source": [
    "# Menentukan parameter yang akan dioptimalkan untuk GB\n",
    "gb_params = {\n",
    "    'gb__n_estimators': [10, 5, 10],  # Jumlah pohon keputusan\n",
    "    'gb__learning_rate': [0.01, 0.1, 0.2],  # Tingkat pembelajaran\n",
    "    'gb__max_depth': [3, 4, 5],  # Kedalaman maksimum pohon\n",
    "}\n",
    "\n",
    "# Membuat objek GridSearchCV untuk hyperparameter tuning GB\n",
    "grid = GridSearchCV(estimator=gb_pipe,\n",
    "                       param_grid=gb_params,\n",
    "                       cv=5,\n",
    "                       n_jobs=-1,\n",
    "                       verbose=3,\n",
    "                       scoring='precision')\n",
    "\n",
    "# Melakukan hyperparameter tuning untuk GB\n",
    "grid.fit(x_train, y_train)\n",
    "\n",
    "# Menampilkan hasil tuning untuk GB\n",
    "print(\"Best parameters for GB:\", grid.best_params_)\n",
    "print(\"Best precision score for GB:\", grid.best_score_)\n"
   ]
  },
  {
   "cell_type": "markdown",
   "metadata": {},
   "source": [
    "Dari hasil diatas, dapat disimpulkan bahwa:\n",
    "\n",
    "\n",
    "1. **Model Terbaik:**\n",
    "   Model terbaik adalah Gradient Boosting (GB) dengan hyperparameter:\n",
    "   - Learning rate: 0.1\n",
    "   - Max depth: 3\n",
    "   - Jumlah estimator: 10\n",
    "\n",
    "\n",
    "2. **Kesimpulan:**\n",
    "   - Model ini dipilih karena memberikan hasil paling baik dibanding model lain.\n",
    "   - Learning rate 0.1 menunjukkan seberapa besar model belajar dari kesalahan sebelumnya.\n",
    "   - Max depth 3 menandakan kedalaman maksimal pohon keputusan dalam model.\n",
    "   - Jumlah estimator 10 adalah jumlah pohon keputusan yang digunakan dalam model.\n",
    "\n",
    "\n",
    "3. **Keunggulan Model GB:**\n",
    "   - Model GB mampu memberikan prediksi dengan tingkat keakuratan yang sangat tinggi, dengan skor presisi mencapai 98%%.\n",
    "   - Learning rate yang optimal dan kedalaman pohon yang terkontrol membantu mencegah overfitting atau underfitting.\n",
    "   - Penggunaan 10 estimator memberikan keseimbangan antara keakuratan dan efisiensi komputasi.\n",
    "\n",
    "\n",
    "4. **Kesimpulan Skor Tinggi:**\n",
    "   - Skor presisi yang tinggi (99.1%) menunjukkan bahwa model mampu dengan akurat memprediksi hasil.\n",
    "   - Hasil ini dapat diandalkan untuk memutuskan persetujuan atau penolakan pinjaman dengan sangat baik."
   ]
  },
  {
   "cell_type": "code",
   "execution_count": 44,
   "metadata": {},
   "outputs": [],
   "source": [
    "# Mendapatkan model terbaik dengan hyperparameter\n",
    "best_model_gb = grid.best_estimator_"
   ]
  },
  {
   "cell_type": "code",
   "execution_count": 45,
   "metadata": {},
   "outputs": [
    {
     "name": "stdout",
     "output_type": "stream",
     "text": [
      "========================= MODEL TRAINING =========================\n",
      "              precision    recall  f1-score   support\n",
      "\n",
      "           0       0.94      0.99      0.96      1593\n",
      "           1       0.99      0.94      0.96      1593\n",
      "\n",
      "    accuracy                           0.96      3186\n",
      "   macro avg       0.96      0.96      0.96      3186\n",
      "weighted avg       0.96      0.96      0.96      3186\n",
      "\n",
      "\n",
      "\n",
      "========================= MODEL TEST =========================\n",
      "              precision    recall  f1-score   support\n",
      "\n",
      "           0       0.94      0.99      0.96      1063\n",
      "           1       0.99      0.94      0.96      1063\n",
      "\n",
      "    accuracy                           0.96      2126\n",
      "   macro avg       0.96      0.96      0.96      2126\n",
      "weighted avg       0.96      0.96      0.96      2126\n",
      "\n"
     ]
    }
   ],
   "source": [
    "# Memprediksi nilai target pada data train dan test menggunakan model terbaik\n",
    "y_train_pred = best_model_gb.predict(x_train)\n",
    "y_test_pred = best_model_gb.predict(x_test)\n",
    "\n",
    "# Menampilkan laporan klasifikasi untuk data train\n",
    "print(\"=\"*25,\"MODEL TRAINING\",\"=\"*25)\n",
    "print(classification_report(y_train,y_train_pred))\n",
    "print(\"\\n\")\n",
    "\n",
    "# Menampilkan laporan klasifikasi untuk data test\n",
    "print(\"=\"*25,\"MODEL TEST\",\"=\"*25)\n",
    "print(classification_report(y_test,y_test_pred))"
   ]
  },
  {
   "cell_type": "markdown",
   "metadata": {},
   "source": [
    "Berdasarkan laporan klasifikasi diatas, baik model training maupun model test terlihat sangat baik. Dapat disimpulkan bahwa:\n",
    "\n",
    "1. Kinerja Model:\n",
    "    - Akurasi model pada data training sekitar 96%, yang berarti model berhasil memprediksi 96% dari total data training dengan benar.\n",
    "    - Pada data testing, model juga mencapai akurasi sekitar 96%, menunjukkan kemampuan prediksi yang baik.\n",
    "\n",
    "2. Precision, Recall, dan F1-Score:\n",
    "\n",
    "    - Precision mengukur seberapa sering model memprediksi data sebagai positif, dan seberapa benar prediksi tersebut. Nilai presisi untuk kelas 0 dan 1 di data training dan testing sangat tinggi, sekitar 94% hingga 99%.\n",
    "    \n",
    "    - Recall mengukur seberapa baik model dapat menangkap semua data yang seharusnya positif. Nilai recall juga tinggi untuk kedua kelas di data training dan testing.\n",
    "    \n",
    "    - F1-score, menggabungkan presisi dan recall, menunjukkan keseimbangan antara keduanya. F1-score yang tinggi menunjukkan kinerja model yang baik.\n",
    "\n",
    "3. Nilai Precision yang sama pada model train dan model test:\n",
    "\n",
    "    - Nilai precision yang sama antara data training dan testing bisa disebabkan oleh distribusi data yang seimbang di kedua set data train dan data test.\n",
    "    - Model cenderung memberikan prediksi yang konsisten untuk kedua data, menghasilkan nilai precision yang mirip pada kedua set data.\n",
    "\n",
    "Insight:\n",
    "\n",
    "Meskipun hasilnya bagus, penting untuk memahami apakah model memiliki kecenderungan overfitting atau underfitting, dan apakah distribusi kelas seragam di seluruh dataset."
   ]
  },
  {
   "cell_type": "code",
   "execution_count": 46,
   "metadata": {},
   "outputs": [
    {
     "name": "stdout",
     "output_type": "stream",
     "text": [
      "Confusion Matrix      : \n",
      " <sklearn.metrics._plot.confusion_matrix.ConfusionMatrixDisplay object at 0x16b6fa400>\n"
     ]
    },
    {
     "data": {
      "image/png": "[encoded data removed]",
      "text/plain": [
       "<Figure size 640x480 with 2 Axes>"
      ]
     },
     "metadata": {},
     "output_type": "display_data"
    }
   ],
   "source": [
    "# Menampilkan Confussion Matrix data train\n",
    "print('Confusion Matrix      : \\n', ConfusionMatrixDisplay.from_estimator(best_model_gb, x_train, y_train, cmap='Reds'))"
   ]
  },
  {
   "cell_type": "code",
   "execution_count": 47,
   "metadata": {},
   "outputs": [
    {
     "name": "stdout",
     "output_type": "stream",
     "text": [
      "Confusion Matrix      : \n",
      " <sklearn.metrics._plot.confusion_matrix.ConfusionMatrixDisplay object at 0x15f272b20>\n"
     ]
    },
    {
     "data": {
      "image/png": "[encoded data removed]",
      "text/plain": [
       "<Figure size 640x480 with 2 Axes>"
      ]
     },
     "metadata": {},
     "output_type": "display_data"
    }
   ],
   "source": [
    "# Menampilkan Confussion Matrix data test\n",
    "print('Confusion Matrix      : \\n', ConfusionMatrixDisplay.from_estimator(best_model_gb, x_test, y_test, cmap='Reds'))"
   ]
  },
  {
   "cell_type": "markdown",
   "metadata": {},
   "source": [
    "# 7. Model Saving"
   ]
  },
  {
   "cell_type": "code",
   "execution_count": 48,
   "metadata": {},
   "outputs": [],
   "source": [
    "# Menyimpan Model\n",
    "import json\n",
    "joblib.dump(best_model_gb, \"model.pkl\")\n",
    "\n",
    "with open('feature.json','w') as f:\n",
    "    json.dump(feature,f)"
   ]
  },
  {
   "cell_type": "markdown",
   "metadata": {},
   "source": [
    "# 8. Model Inference"
   ]
  },
  {
   "cell_type": "markdown",
   "metadata": {},
   "source": [
    "Ada pada notebook 'data_inference.ipynb'"
   ]
  },
  {
   "cell_type": "markdown",
   "metadata": {},
   "source": [
    "# 9. Conclusion"
   ]
  },
  {
   "cell_type": "markdown",
   "metadata": {},
   "source": [
    "**Kesimpulan:**\n",
    "\n",
    "1. **Dataset:**\n",
    "   - Dataset terdiri dari 4269 entri dengan 13 kolom termasuk kolom target, yaitu kolom `loan_status`.\n",
    "   - Terdapat dua kategori pada kolom target: 'Approved' dan 'Rejected'. Kategori approved diganti menjadi 1 dan kategori rejected diganti menjadi 0.\n",
    "\n",
    "2. **Data Preprocessing:**\n",
    "   - Dilakukan oversampling untuk menangani ketidakseimbangan data dengan menggunakan SMOTE. Balancing data menggunakan oversampling dilakukan dengan cara penambahan pada kelas minoritas agar jumlah datanya sama dengan jumlah data pada kelas mayoritas. \n",
    "   - Melakukan pemilihan kolom feature berdasarkan nilai korelasi dengan target, dipilih kolom feature 'loan_term' dan 'cibil_score'.\n",
    "\n",
    "3. **Modeling:**\n",
    "   - Empat model klasifikasi yang diuji: K-Nearest Neighbors (KNN), Support Vector Machine (SVM), Random Forest (RF),  Decision Tree (Tree), dan Gradient Boosting (GB).\n",
    "   - Model Gradient Boosting (GB) dipilih sebagai model terbaik berdasarkan hasil cross-validation dan evaluasi kinerja pada data test.\n",
    "\n",
    "4. **Evaluasi Model:**\n",
    "   - Matrix evaluasi yang dipilih adalah precision. Alasan penggunaannya karena dalam konteks pinjaman, matrix 'precision' dapat membantu mengukur seberapa akurat model dapat memprediksi persetujuan pinjaman.\n",
    "   - Model Gradient Boosting memberikan hasil precision yang sama pada data training dan data test, yaitu untuk kelas 0 (pinjaman ditolak) sebesar 94% dan untuk kelas 1 (pinjaman disetujui) sebesar 99%. \n",
    "\n",
    "5. **Kelebihan dan Kekurangan Model GB:**\n",
    "   - **Kelebihan:** Cenderung emiliki akurasi yang tinggi karena mampu memperbaiki kesalahan prediksi model sebelumnya\n",
    "   - **Kekurangan:** rentan terhadap overfitting\n"
   ]
  },
  {
   "cell_type": "markdown",
   "metadata": {},
   "source": [
    "# 10. Conceptual Problem"
   ]
  },
  {
   "cell_type": "markdown",
   "metadata": {},
   "source": [
    "## 1. Jelaskan latar belakang adanya bagging dan cara kerja bagging !"
   ]
  },
  {
   "cell_type": "markdown",
   "metadata": {},
   "source": [
    "Latar Belakang Bagging:\n",
    "\n",
    "Bagging (Bootstrap Aggregating) digunakan untuk meningkatkan stabilitas dan akurasi model dengan menggabungkan hasil prediksi dari beberapa model yang dilatih pada data set acak dari data training.\n",
    "\n",
    "Cara Kerja Bagging:\n",
    "\n",
    "Bagging bekerja dengan membuat beberapa data set acak dari data training, lalu melatih model pada setiap data set, dan kemudian menggabungkan hasil prediksi dari setiap model untuk menghasilkan prediksi akhir."
   ]
  },
  {
   "cell_type": "markdown",
   "metadata": {},
   "source": [
    "## 2. Jelaskan perbedaan cara kerja algoritma Random Forest dengan algoritma boosting yang Anda pilih !"
   ]
  },
  {
   "cell_type": "markdown",
   "metadata": {},
   "source": [
    "- Random Forest:\n",
    "\n",
    "    - Cara Kerja:\n",
    "\n",
    "        Membentuk sejumlah kelompok keputusan secara terpisah, masing-masing dilatih secara acak dari data train. Hasil prediksi dari setiap kelompok diambil melalui rata-rata untuk menghasilkan prediksi akhir.\n",
    "\n",
    "\n",
    "- Gradient Boosting:\n",
    "\n",
    "    - Cara Kerja: \n",
    "\n",
    "        Membentuk sejumlah kelompok keputusan secara berurutan, setiap kelompok dibuat untuk memperbaiki kesalahan prediksi model sebelumnya. Prediksi akhir adalah hasil penjumlahan prediksi dari setiap kelompok, memberi bobot lebih pada kelompok yang memiliki performa lebih baik.\n"
   ]
  },
  {
   "cell_type": "markdown",
   "metadata": {},
   "source": [
    "## 3. Jelaskan apa yang dimaksud dengan Cross Validation !"
   ]
  },
  {
   "cell_type": "markdown",
   "metadata": {},
   "source": [
    "Cross Validation adalah teknik untuk menguji performa suatu model dengan membagi data menjadi beberapa set, melatih model pada sebagian data set, dan menguji pada data set yang tidak dilatih, sehingga mendapatkan estimasi yang lebih reliabel tentang seberapa baik model dapat digeneralisasi ke data baru."
   ]
  }
 ],
 "metadata": {
  "kernelspec": {
   "display_name": "base",
   "language": "python",
   "name": "python3"
  },
  "language_info": {
   "codemirror_mode": {
    "name": "ipython",
    "version": 3
   },
   "file_extension": ".py",
   "mimetype": "text/x-python",
   "name": "python",
   "nbconvert_exporter": "python",
   "pygments_lexer": "ipython3",
   "version": "3.9.6"
  }
 },
 "nbformat": 4,
 "nbformat_minor": 2
}
